{
 "cells": [
  {
   "cell_type": "code",
   "execution_count": 1,
   "id": "5b7ce3f8-3f4d-42d0-b43b-31383577733e",
   "metadata": {},
   "outputs": [],
   "source": [
    "import pandas as pd"
   ]
  },
  {
   "cell_type": "code",
   "execution_count": 2,
   "id": "796ae6d1-b255-4162-b63b-9b968d64b13c",
   "metadata": {},
   "outputs": [
    {
     "data": {
      "text/html": [
       "<div>\n",
       "<style scoped>\n",
       "    .dataframe tbody tr th:only-of-type {\n",
       "        vertical-align: middle;\n",
       "    }\n",
       "\n",
       "    .dataframe tbody tr th {\n",
       "        vertical-align: top;\n",
       "    }\n",
       "\n",
       "    .dataframe thead th {\n",
       "        text-align: right;\n",
       "    }\n",
       "</style>\n",
       "<table border=\"1\" class=\"dataframe\">\n",
       "  <thead>\n",
       "    <tr style=\"text-align: right;\">\n",
       "      <th></th>\n",
       "      <th>Unnamed: 0</th>\n",
       "      <th>Date</th>\n",
       "      <th>Contest number</th>\n",
       "      <th>Word</th>\n",
       "      <th>Number of  reported results</th>\n",
       "      <th>Number in hard mode</th>\n",
       "      <th>1 try</th>\n",
       "      <th>2 tries</th>\n",
       "      <th>3 tries</th>\n",
       "      <th>4 tries</th>\n",
       "      <th>...</th>\n",
       "      <th>r</th>\n",
       "      <th>s</th>\n",
       "      <th>t</th>\n",
       "      <th>u</th>\n",
       "      <th>v</th>\n",
       "      <th>w</th>\n",
       "      <th>x</th>\n",
       "      <th>y</th>\n",
       "      <th>z</th>\n",
       "      <th>hard pecent</th>\n",
       "    </tr>\n",
       "  </thead>\n",
       "  <tbody>\n",
       "    <tr>\n",
       "      <th>0</th>\n",
       "      <td>247</td>\n",
       "      <td>2022-04-28</td>\n",
       "      <td>313</td>\n",
       "      <td>zesty</td>\n",
       "      <td>88974</td>\n",
       "      <td>6315</td>\n",
       "      <td>0</td>\n",
       "      <td>2</td>\n",
       "      <td>12</td>\n",
       "      <td>27</td>\n",
       "      <td>...</td>\n",
       "      <td>0</td>\n",
       "      <td>1</td>\n",
       "      <td>1</td>\n",
       "      <td>0</td>\n",
       "      <td>0</td>\n",
       "      <td>0</td>\n",
       "      <td>0</td>\n",
       "      <td>1</td>\n",
       "      <td>1</td>\n",
       "      <td>0.070976</td>\n",
       "    </tr>\n",
       "    <tr>\n",
       "      <th>1</th>\n",
       "      <td>150</td>\n",
       "      <td>2022-08-03</td>\n",
       "      <td>410</td>\n",
       "      <td>youth</td>\n",
       "      <td>38381</td>\n",
       "      <td>3327</td>\n",
       "      <td>1</td>\n",
       "      <td>5</td>\n",
       "      <td>17</td>\n",
       "      <td>31</td>\n",
       "      <td>...</td>\n",
       "      <td>0</td>\n",
       "      <td>0</td>\n",
       "      <td>1</td>\n",
       "      <td>1</td>\n",
       "      <td>0</td>\n",
       "      <td>0</td>\n",
       "      <td>0</td>\n",
       "      <td>1</td>\n",
       "      <td>0</td>\n",
       "      <td>0.086684</td>\n",
       "    </tr>\n",
       "    <tr>\n",
       "      <th>2</th>\n",
       "      <td>230</td>\n",
       "      <td>2022-05-15</td>\n",
       "      <td>330</td>\n",
       "      <td>yield</td>\n",
       "      <td>67115</td>\n",
       "      <td>4963</td>\n",
       "      <td>0</td>\n",
       "      <td>4</td>\n",
       "      <td>16</td>\n",
       "      <td>29</td>\n",
       "      <td>...</td>\n",
       "      <td>0</td>\n",
       "      <td>0</td>\n",
       "      <td>0</td>\n",
       "      <td>0</td>\n",
       "      <td>0</td>\n",
       "      <td>0</td>\n",
       "      <td>0</td>\n",
       "      <td>1</td>\n",
       "      <td>0</td>\n",
       "      <td>0.073948</td>\n",
       "    </tr>\n",
       "    <tr>\n",
       "      <th>3</th>\n",
       "      <td>335</td>\n",
       "      <td>2022-01-30</td>\n",
       "      <td>225</td>\n",
       "      <td>wrung</td>\n",
       "      <td>294687</td>\n",
       "      <td>11524</td>\n",
       "      <td>0</td>\n",
       "      <td>2</td>\n",
       "      <td>18</td>\n",
       "      <td>39</td>\n",
       "      <td>...</td>\n",
       "      <td>1</td>\n",
       "      <td>0</td>\n",
       "      <td>0</td>\n",
       "      <td>1</td>\n",
       "      <td>0</td>\n",
       "      <td>1</td>\n",
       "      <td>0</td>\n",
       "      <td>0</td>\n",
       "      <td>0</td>\n",
       "      <td>0.039106</td>\n",
       "    </tr>\n",
       "    <tr>\n",
       "      <th>4</th>\n",
       "      <td>130</td>\n",
       "      <td>2022-08-23</td>\n",
       "      <td>430</td>\n",
       "      <td>woven</td>\n",
       "      <td>33549</td>\n",
       "      <td>2933</td>\n",
       "      <td>0</td>\n",
       "      <td>2</td>\n",
       "      <td>13</td>\n",
       "      <td>32</td>\n",
       "      <td>...</td>\n",
       "      <td>0</td>\n",
       "      <td>0</td>\n",
       "      <td>0</td>\n",
       "      <td>0</td>\n",
       "      <td>1</td>\n",
       "      <td>1</td>\n",
       "      <td>0</td>\n",
       "      <td>0</td>\n",
       "      <td>0</td>\n",
       "      <td>0.087424</td>\n",
       "    </tr>\n",
       "  </tbody>\n",
       "</table>\n",
       "<p>5 rows × 42 columns</p>\n",
       "</div>"
      ],
      "text/plain": [
       "   Unnamed: 0       Date  Contest number   Word  Number of  reported results  \\\n",
       "0         247 2022-04-28             313  zesty                        88974   \n",
       "1         150 2022-08-03             410  youth                        38381   \n",
       "2         230 2022-05-15             330  yield                        67115   \n",
       "3         335 2022-01-30             225  wrung                       294687   \n",
       "4         130 2022-08-23             430  woven                        33549   \n",
       "\n",
       "   Number in hard mode  1 try  2 tries  3 tries  4 tries  ...  r  s  t  u  v  \\\n",
       "0                 6315      0        2       12       27  ...  0  1  1  0  0   \n",
       "1                 3327      1        5       17       31  ...  0  0  1  1  0   \n",
       "2                 4963      0        4       16       29  ...  0  0  0  0  0   \n",
       "3                11524      0        2       18       39  ...  1  0  0  1  0   \n",
       "4                 2933      0        2       13       32  ...  0  0  0  0  1   \n",
       "\n",
       "   w  x  y  z  hard pecent  \n",
       "0  0  0  1  1     0.070976  \n",
       "1  0  0  1  0     0.086684  \n",
       "2  0  0  1  0     0.073948  \n",
       "3  1  0  0  0     0.039106  \n",
       "4  1  0  0  0     0.087424  \n",
       "\n",
       "[5 rows x 42 columns]"
      ]
     },
     "execution_count": 2,
     "metadata": {},
     "output_type": "execute_result"
    }
   ],
   "source": [
    "data=pd.read_excel('综合评价.xlsx')\n",
    "data.head()"
   ]
  },
  {
   "cell_type": "code",
   "execution_count": 3,
   "id": "c58f3ad0-e8b6-4e7e-bbb3-f26b668593c3",
   "metadata": {},
   "outputs": [
    {
     "data": {
      "text/plain": [
       "Index(['Unnamed: 0', 'Date', 'Contest number', 'Word',\n",
       "       'Number of  reported results', 'Number in hard mode', '1 try',\n",
       "       '2 tries', '3 tries', '4 tries', '5 tries', '6 tries',\n",
       "       '7 or more tries (X)', 'len', '分档等级', 'a', 'b', 'c', 'd', 'e', 'f', 'g',\n",
       "       'h', 'i', 'j', 'k', 'l', 'm', 'n', 'o', 'p', 'q', 'r', 's', 't', 'u',\n",
       "       'v', 'w', 'x', 'y', 'z', 'hard pecent'],\n",
       "      dtype='object')"
      ]
     },
     "execution_count": 3,
     "metadata": {},
     "output_type": "execute_result"
    }
   ],
   "source": [
    "data.columns"
   ]
  },
  {
   "cell_type": "code",
   "execution_count": 4,
   "id": "ea515746-f1df-4de8-8288-0b98a1875078",
   "metadata": {},
   "outputs": [],
   "source": [
    "X=data[['a', 'b', 'c', 'd', 'e', 'f', 'g', 'h',\n",
    "       'i', 'j', 'k', 'l', 'm', 'n', 'o', 'p', 'q', 'r', 's', 't', 'u', 'v',\n",
    "       'w', 'x', 'y', 'z']]\n",
    "Y=data['分档等级']"
   ]
  },
  {
   "cell_type": "code",
   "execution_count": 5,
   "id": "442a5df7-cba8-4300-a7f2-13c9ba4c8118",
   "metadata": {},
   "outputs": [
    {
     "name": "stderr",
     "output_type": "stream",
     "text": [
      "C:\\Users\\Linling\\AppData\\Roaming\\spsspro\\spsspro\\lib\\python\\lib\\site-packages\\xgboost\\compat.py:36: FutureWarning: pandas.Int64Index is deprecated and will be removed from pandas in a future version. Use pandas.Index with the appropriate dtype instead.\n",
      "  from pandas import MultiIndex, Int64Index\n"
     ]
    },
    {
     "name": "stdout",
     "output_type": "stream",
     "text": [
      "神经网络:\n",
      "训练集准确度:0.892\n",
      "测试集准确度:0.694\n",
      "平均绝对误差: 0.3055555555555556\n",
      "ACC 0.6944444444444444\n",
      "REC 0.6944444444444444\n",
      "F-score 0.6830601092896175\n",
      "\n",
      "逻辑回归:\n",
      "训练集准确度:0.712\n",
      "测试集准确度:0.806\n",
      "平均绝对误差: 0.19444444444444445\n",
      "ACC 0.8055555555555556\n",
      "REC 0.8055555555555556\n",
      "F-score 0.7435897435897435\n",
      "\n",
      "决策树:\n",
      "训练集准确度:1.000\n",
      "测试集准确度:0.583\n",
      "平均绝对误差: 0.4166666666666667\n",
      "ACC 0.5833333333333334\n",
      "REC 0.5833333333333334\n",
      "F-score 0.6221756347542511\n",
      "\n",
      "随机森林:\n",
      "训练集准确度:1.000\n",
      "测试集准确度:0.722\n",
      "平均绝对误差: 0.2777777777777778\n",
      "ACC 0.7222222222222222\n",
      "REC 0.7222222222222222\n",
      "F-score 0.6989247311827957\n",
      "\n",
      "LGBM:\n",
      "训练集准确度:0.901\n",
      "测试集准确度:0.611\n",
      "平均绝对误差: 0.3888888888888889\n",
      "ACC 0.6111111111111112\n",
      "REC 0.6111111111111112\n",
      "F-score 0.6408730158730159\n",
      "\n",
      "XGBOOST:\n",
      "[09:11:51] WARNING: C:/Users/Administrator/workspace/xgboost-win64_release_1.5.1/src/learner.cc:1115: Starting in XGBoost 1.3.0, the default evaluation metric used with the objective 'multi:softprob' was changed from 'merror' to 'mlogloss'. Explicitly set eval_metric if you'd like to restore the old behavior.\n",
      "训练集准确度:0.997\n",
      "测试集准确度:0.556\n",
      "平均绝对误差: 0.4444444444444444\n",
      "ACC 0.5555555555555556\n",
      "REC 0.5555555555555556\n",
      "F-score 0.5952380952380952\n"
     ]
    }
   ],
   "source": [
    "# 此处所引入的包大部分为下文机器学习算法\n",
    "import pandas as pd\n",
    "from numpy import *\n",
    "import numpy as np\n",
    "from sklearn.neural_network import MLPClassifier\n",
    "from sklearn.tree import DecisionTreeClassifier\n",
    "from sklearn.ensemble import RandomForestClassifier\n",
    "from sklearn.linear_model import LogisticRegression\n",
    "from sklearn.model_selection import learning_curve\n",
    "import xgboost as xgb\n",
    "import lightgbm as lgb\n",
    "from sklearn.metrics import accuracy_score,recall_score,f1_score\n",
    "import matplotlib.pyplot as plt\n",
    "from sklearn.metrics import mean_absolute_error\n",
    "\n",
    "import warnings\n",
    "warnings.filterwarnings(\"ignore\")\n",
    "from sklearn.model_selection import train_test_split\n",
    "\n",
    "\n",
    "tr_x,te_x,tr_y,te_y=train_test_split(X,Y,test_size=0.1,random_state=5)\n",
    "\n",
    "\n",
    "model=MLPClassifier(hidden_layer_sizes=10,max_iter=1000).fit(tr_x,tr_y)\n",
    "print(\"神经网络:\")\n",
    "print(\"训练集准确度:{:.3f}\".format(model.score(tr_x,tr_y)))\n",
    "print(\"测试集准确度:{:.3f}\".format(model.score(te_x,te_y)))\n",
    "y_pred = model.predict(te_x)\n",
    "print(\"平均绝对误差:\",mean_absolute_error(te_y, y_pred))\n",
    "# 准确率，召回率，F-score评价\n",
    "print(\"ACC\",accuracy_score(te_y,y_pred))\n",
    "print(\"REC\",recall_score(te_y,y_pred,average=\"weighted\"))\n",
    "print(\"F-score\",f1_score(te_y,y_pred,average=\"weighted\"))\n",
    "\n",
    "\n",
    "print(\"\\n逻辑回归:\")\n",
    "logreg = LogisticRegression(C=1,solver='liblinear',multi_class ='auto')\n",
    "logreg.fit(tr_x, tr_y)\n",
    "score = logreg.score(tr_x, tr_y)\n",
    "score2 = logreg.score(te_x, te_y)\n",
    "print(\"训练集准确度:{:.3f}\".format(logreg.score(tr_x,tr_y)))\n",
    "print(\"测试集准确度:{:.3f}\".format(logreg.score(te_x,te_y)))\n",
    "y_pred = logreg.predict(te_x)\n",
    "print(\"平均绝对误差:\",mean_absolute_error(te_y, y_pred))\n",
    "print(\"ACC\",accuracy_score(te_y,y_pred))\n",
    "print(\"REC\",recall_score(te_y,y_pred,average=\"weighted\"))\n",
    "print(\"F-score\",f1_score(te_y,y_pred,average=\"weighted\"))\n",
    "\n",
    "\n",
    "print(\"\\n决策树:\")\n",
    "tree=DecisionTreeClassifier(max_depth=50,random_state=0)\n",
    "tree.fit(tr_x,tr_y)\n",
    "y_pred = tree.predict(te_x)\n",
    "print(\"训练集准确度:{:.3f}\".format(tree.score(tr_x,tr_y)))\n",
    "print(\"测试集准确度:{:.3f}\".format(tree.score(te_x,te_y)))\n",
    "print(\"平均绝对误差:\",mean_absolute_error(te_y, y_pred))\n",
    "print(\"ACC\",accuracy_score(te_y,y_pred))\n",
    "print(\"REC\",recall_score(te_y,y_pred,average=\"weighted\"))\n",
    "print(\"F-score\",f1_score(te_y,y_pred,average=\"weighted\"))\n",
    "\n",
    "print(\"\\n随机森林:\")\n",
    "rf=RandomForestClassifier(max_depth=20,n_estimators=1000,random_state=0)\n",
    "rf.fit(tr_x,tr_y)\n",
    "print(\"训练集准确度:{:.3f}\".format(rf.score(tr_x,tr_y)))\n",
    "print(\"测试集准确度:{:.3f}\".format(rf.score(te_x,te_y)))\n",
    "y_pred = rf.predict(te_x)\n",
    "print(\"平均绝对误差:\",mean_absolute_error(te_y, y_pred))\n",
    "print(\"ACC\",accuracy_score(te_y,y_pred))\n",
    "print(\"REC\",recall_score(te_y,y_pred,average=\"weighted\"))\n",
    "print(\"F-score\",f1_score(te_y,y_pred,average=\"weighted\"))\n",
    "\n",
    "\n",
    "print(\"\\nLGBM:\")\n",
    "lgb_model=lgb.LGBMClassifier()\n",
    "lgb_model.fit(tr_x,tr_y)\n",
    "print(\"训练集准确度:{:.3f}\".format(lgb_model.score(tr_x,tr_y)))\n",
    "print(\"测试集准确度:{:.3f}\".format(lgb_model.score(te_x,te_y)))\n",
    "y_pred = lgb_model.predict(te_x)\n",
    "print(\"平均绝对误差:\",mean_absolute_error(te_y, y_pred))\n",
    "print(\"ACC\",accuracy_score(te_y,y_pred))\n",
    "print(\"REC\",recall_score(te_y,y_pred,average=\"weighted\"))\n",
    "print(\"F-score\",f1_score(te_y,y_pred,average=\"weighted\"))\n",
    "\n",
    "\n",
    "print(\"\\nXGBOOST:\")\n",
    "xgb_model=xgb.XGBClassifier()\n",
    "xgb_model.fit(tr_x,tr_y)\n",
    "print(\"训练集准确度:{:.3f}\".format(xgb_model.score(tr_x,tr_y)))\n",
    "print(\"测试集准确度:{:.3f}\".format(xgb_model.score(te_x,te_y)))\n",
    "y_pred = xgb_model.predict(te_x)\n",
    "print(\"平均绝对误差:\",mean_absolute_error(te_y, y_pred))\n",
    "print(\"ACC\",accuracy_score(te_y,y_pred))\n",
    "print(\"REC\",recall_score(te_y,y_pred,average=\"weighted\"))\n",
    "print(\"F-score\",f1_score(te_y,y_pred,average=\"weighted\"))\n"
   ]
  },
  {
   "cell_type": "code",
   "execution_count": 40,
   "id": "48ec8994-391c-4cc0-a681-0fb1a8b83dc0",
   "metadata": {},
   "outputs": [
    {
     "data": {
      "text/plain": [
       "[0, 0, 0, 0, 3, 0, 0, 0, 1, 0, 0, 0, 0, 0, 0, 0, 0, 1, 0, 0, 0, 0, 0, 0, 0, 0]"
      ]
     },
     "execution_count": 40,
     "metadata": {},
     "output_type": "execute_result"
    }
   ],
   "source": [
    "from collections import Counter\n",
    "aa='a、b、c、d、e、f、g、h、i、j、k、l、m、n、o、p、q、r、s、t、u、v、w、x、y、z'.split('、')\n",
    "i='eerie'\n",
    "tt=Counter(i.strip())\n",
    "bb=[0]*26\n",
    "for j in tt:\n",
    "    bb[aa.index(j)]=tt[j]\n",
    "bb"
   ]
  },
  {
   "cell_type": "code",
   "execution_count": 42,
   "id": "364d09e7-5c63-495c-b175-5d79eed32730",
   "metadata": {},
   "outputs": [
    {
     "data": {
      "text/plain": [
       "array([2], dtype=int64)"
      ]
     },
     "execution_count": 42,
     "metadata": {},
     "output_type": "execute_result"
    }
   ],
   "source": [
    "#model:神经网络\n",
    "#xgb_model：xgboost\n",
    "xgb_model.predict(np.array(bb).reshape(1, -1))"
   ]
  },
  {
   "cell_type": "code",
   "execution_count": 6,
   "id": "a76dfdf2-0450-4778-bbfa-79ee0564d367",
   "metadata": {},
   "outputs": [
    {
     "data": {
      "image/png": "[encoded data removed]",
      "text/plain": [
       "<Figure size 432x288 with 1 Axes>"
      ]
     },
     "metadata": {
      "needs_background": "light"
     },
     "output_type": "display_data"
    },
    {
     "data": {
      "image/png": "[encoded data removed]",
      "text/plain": [
       "<Figure size 432x288 with 1 Axes>"
      ]
     },
     "metadata": {
      "needs_background": "light"
     },
     "output_type": "display_data"
    },
    {
     "data": {
      "image/png": "[encoded data removed]",
      "text/plain": [
       "<Figure size 432x288 with 1 Axes>"
      ]
     },
     "metadata": {
      "needs_background": "light"
     },
     "output_type": "display_data"
    },
    {
     "data": {
      "image/png": "[encoded data removed]",
      "text/plain": [
       "<Figure size 432x288 with 1 Axes>"
      ]
     },
     "metadata": {
      "needs_background": "light"
     },
     "output_type": "display_data"
    },
    {
     "data": {
      "image/png": "[encoded data removed]",
      "text/plain": [
       "<Figure size 432x288 with 1 Axes>"
      ]
     },
     "metadata": {
      "needs_background": "light"
     },
     "output_type": "display_data"
    },
    {
     "name": "stdout",
     "output_type": "stream",
     "text": [
      "[09:12:11] WARNING: C:/Users/Administrator/workspace/xgboost-win64_release_1.5.1/src/learner.cc:1115: Starting in XGBoost 1.3.0, the default evaluation metric used with the objective 'multi:softprob' was changed from 'merror' to 'mlogloss'. Explicitly set eval_metric if you'd like to restore the old behavior.\n",
      "[09:12:11] WARNING: C:/Users/Administrator/workspace/xgboost-win64_release_1.5.1/src/learner.cc:1115: Starting in XGBoost 1.3.0, the default evaluation metric used with the objective 'multi:softprob' was changed from 'merror' to 'mlogloss'. Explicitly set eval_metric if you'd like to restore the old behavior.\n",
      "[09:12:11] WARNING: C:/Users/Administrator/workspace/xgboost-win64_release_1.5.1/src/learner.cc:1115: Starting in XGBoost 1.3.0, the default evaluation metric used with the objective 'multi:softprob' was changed from 'merror' to 'mlogloss'. Explicitly set eval_metric if you'd like to restore the old behavior.\n",
      "[09:12:11] WARNING: C:/Users/Administrator/workspace/xgboost-win64_release_1.5.1/src/learner.cc:1115: Starting in XGBoost 1.3.0, the default evaluation metric used with the objective 'multi:softprob' was changed from 'merror' to 'mlogloss'. Explicitly set eval_metric if you'd like to restore the old behavior.\n",
      "[09:12:11] WARNING: C:/Users/Administrator/workspace/xgboost-win64_release_1.5.1/src/learner.cc:1115: Starting in XGBoost 1.3.0, the default evaluation metric used with the objective 'multi:softprob' was changed from 'merror' to 'mlogloss'. Explicitly set eval_metric if you'd like to restore the old behavior.\n",
      "[09:12:11] WARNING: C:/Users/Administrator/workspace/xgboost-win64_release_1.5.1/src/learner.cc:1115: Starting in XGBoost 1.3.0, the default evaluation metric used with the objective 'multi:softprob' was changed from 'merror' to 'mlogloss'. Explicitly set eval_metric if you'd like to restore the old behavior.\n",
      "[09:12:11] WARNING: C:/Users/Administrator/workspace/xgboost-win64_release_1.5.1/src/learner.cc:1115: Starting in XGBoost 1.3.0, the default evaluation metric used with the objective 'multi:softprob' was changed from 'merror' to 'mlogloss'. Explicitly set eval_metric if you'd like to restore the old behavior.\n",
      "[09:12:11] WARNING: C:/Users/Administrator/workspace/xgboost-win64_release_1.5.1/src/learner.cc:1115: Starting in XGBoost 1.3.0, the default evaluation metric used with the objective 'multi:softprob' was changed from 'merror' to 'mlogloss'. Explicitly set eval_metric if you'd like to restore the old behavior.\n",
      "[09:12:11] WARNING: C:/Users/Administrator/workspace/xgboost-win64_release_1.5.1/src/learner.cc:1115: Starting in XGBoost 1.3.0, the default evaluation metric used with the objective 'multi:softprob' was changed from 'merror' to 'mlogloss'. Explicitly set eval_metric if you'd like to restore the old behavior.\n",
      "[09:12:12] WARNING: C:/Users/Administrator/workspace/xgboost-win64_release_1.5.1/src/learner.cc:1115: Starting in XGBoost 1.3.0, the default evaluation metric used with the objective 'multi:softprob' was changed from 'merror' to 'mlogloss'. Explicitly set eval_metric if you'd like to restore the old behavior.\n",
      "[09:12:12] WARNING: C:/Users/Administrator/workspace/xgboost-win64_release_1.5.1/src/learner.cc:1115: Starting in XGBoost 1.3.0, the default evaluation metric used with the objective 'multi:softprob' was changed from 'merror' to 'mlogloss'. Explicitly set eval_metric if you'd like to restore the old behavior.\n",
      "[09:12:12] WARNING: C:/Users/Administrator/workspace/xgboost-win64_release_1.5.1/src/learner.cc:1115: Starting in XGBoost 1.3.0, the default evaluation metric used with the objective 'multi:softprob' was changed from 'merror' to 'mlogloss'. Explicitly set eval_metric if you'd like to restore the old behavior.\n",
      "[09:12:12] WARNING: C:/Users/Administrator/workspace/xgboost-win64_release_1.5.1/src/learner.cc:1115: Starting in XGBoost 1.3.0, the default evaluation metric used with the objective 'multi:softprob' was changed from 'merror' to 'mlogloss'. Explicitly set eval_metric if you'd like to restore the old behavior.\n",
      "[09:12:12] WARNING: C:/Users/Administrator/workspace/xgboost-win64_release_1.5.1/src/learner.cc:1115: Starting in XGBoost 1.3.0, the default evaluation metric used with the objective 'multi:softprob' was changed from 'merror' to 'mlogloss'. Explicitly set eval_metric if you'd like to restore the old behavior.\n",
      "[09:12:12] WARNING: C:/Users/Administrator/workspace/xgboost-win64_release_1.5.1/src/learner.cc:1115: Starting in XGBoost 1.3.0, the default evaluation metric used with the objective 'multi:softprob' was changed from 'merror' to 'mlogloss'. Explicitly set eval_metric if you'd like to restore the old behavior.\n",
      "[09:12:12] WARNING: C:/Users/Administrator/workspace/xgboost-win64_release_1.5.1/src/learner.cc:1115: Starting in XGBoost 1.3.0, the default evaluation metric used with the objective 'multi:softprob' was changed from 'merror' to 'mlogloss'. Explicitly set eval_metric if you'd like to restore the old behavior.\n",
      "[09:12:12] WARNING: C:/Users/Administrator/workspace/xgboost-win64_release_1.5.1/src/learner.cc:1115: Starting in XGBoost 1.3.0, the default evaluation metric used with the objective 'multi:softprob' was changed from 'merror' to 'mlogloss'. Explicitly set eval_metric if you'd like to restore the old behavior.\n",
      "[09:12:12] WARNING: C:/Users/Administrator/workspace/xgboost-win64_release_1.5.1/src/learner.cc:1115: Starting in XGBoost 1.3.0, the default evaluation metric used with the objective 'multi:softprob' was changed from 'merror' to 'mlogloss'. Explicitly set eval_metric if you'd like to restore the old behavior.\n",
      "[09:12:12] WARNING: C:/Users/Administrator/workspace/xgboost-win64_release_1.5.1/src/learner.cc:1115: Starting in XGBoost 1.3.0, the default evaluation metric used with the objective 'multi:softprob' was changed from 'merror' to 'mlogloss'. Explicitly set eval_metric if you'd like to restore the old behavior.\n",
      "[09:12:12] WARNING: C:/Users/Administrator/workspace/xgboost-win64_release_1.5.1/src/learner.cc:1115: Starting in XGBoost 1.3.0, the default evaluation metric used with the objective 'multi:softprob' was changed from 'merror' to 'mlogloss'. Explicitly set eval_metric if you'd like to restore the old behavior.\n",
      "[09:12:12] WARNING: C:/Users/Administrator/workspace/xgboost-win64_release_1.5.1/src/learner.cc:1115: Starting in XGBoost 1.3.0, the default evaluation metric used with the objective 'multi:softprob' was changed from 'merror' to 'mlogloss'. Explicitly set eval_metric if you'd like to restore the old behavior.\n",
      "[09:12:12] WARNING: C:/Users/Administrator/workspace/xgboost-win64_release_1.5.1/src/learner.cc:1115: Starting in XGBoost 1.3.0, the default evaluation metric used with the objective 'multi:softprob' was changed from 'merror' to 'mlogloss'. Explicitly set eval_metric if you'd like to restore the old behavior.\n",
      "[09:12:13] WARNING: C:/Users/Administrator/workspace/xgboost-win64_release_1.5.1/src/learner.cc:1115: Starting in XGBoost 1.3.0, the default evaluation metric used with the objective 'multi:softprob' was changed from 'merror' to 'mlogloss'. Explicitly set eval_metric if you'd like to restore the old behavior.\n",
      "[09:12:13] WARNING: C:/Users/Administrator/workspace/xgboost-win64_release_1.5.1/src/learner.cc:1115: Starting in XGBoost 1.3.0, the default evaluation metric used with the objective 'multi:softprob' was changed from 'merror' to 'mlogloss'. Explicitly set eval_metric if you'd like to restore the old behavior.\n"
     ]
    },
    {
     "data": {
      "image/png": "[encoded data removed]",
      "text/plain": [
       "<Figure size 432x288 with 1 Axes>"
      ]
     },
     "metadata": {
      "needs_background": "light"
     },
     "output_type": "display_data"
    },
    {
     "data": {
      "text/plain": [
       "<module 'matplotlib.pyplot' from 'C:\\\\Users\\\\Linling\\\\AppData\\\\Roaming\\\\spsspro\\\\spsspro\\\\lib\\\\python\\\\lib\\\\site-packages\\\\matplotlib\\\\pyplot.py'>"
      ]
     },
     "execution_count": 6,
     "metadata": {},
     "output_type": "execute_result"
    }
   ],
   "source": [
    "from sklearn.model_selection import learning_curve\n",
    "from sklearn.model_selection import ShuffleSplit\n",
    "\n",
    "\n",
    "# 学习曲线函数\n",
    "\n",
    "def plot_learning_curve(estimator, title, X, y, ylim=None, cv=None,\n",
    "                        n_jobs=1, train_sizes=np.linspace(.1, 1.0, 5)):\n",
    "    plt.figure()\n",
    "    plt.title(title)\n",
    "    if ylim is not None:\n",
    "        plt.ylim(*ylim)\n",
    "    plt.xlabel(\"game num\")\n",
    "    plt.ylabel(\"score\")\n",
    "    train_sizes, train_scores, test_scores = learning_curve(\n",
    "        estimator, X, y, cv=cv, n_jobs=n_jobs, train_sizes=train_sizes)\n",
    "    train_scores_mean = np.mean(train_scores, axis=1)\n",
    "    train_scores_std = np.std(train_scores, axis=1)\n",
    "    test_scores_mean = np.mean(test_scores, axis=1)\n",
    "    test_scores_std = np.std(test_scores, axis=1)\n",
    "    plt.grid()\n",
    "\n",
    "    plt.fill_between(train_sizes, train_scores_mean - train_scores_std,\n",
    "                     train_scores_mean + train_scores_std, alpha=0.1,\n",
    "                     color=\"r\")\n",
    "    plt.fill_between(train_sizes, test_scores_mean - test_scores_std,\n",
    "                     test_scores_mean + test_scores_std, alpha=0.1, color=\"g\")\n",
    "    plt.plot(train_sizes, train_scores_mean, 'o-', color=\"r\",\n",
    "             label=\"Training score\")\n",
    "    plt.plot(train_sizes, test_scores_mean, 'o-', color=\"g\",\n",
    "             label=\"Cross-validation score\")\n",
    "    plt.savefig('./Q3/%s.jpg'%title)\n",
    "    plt.legend(loc=\"best\")\n",
    "    plt.show()\n",
    "    return plt\n",
    "\n",
    "cv = ShuffleSplit(n_splits=5, test_size=0.2, random_state=0)\n",
    "plot_learning_curve(logreg, \"LogisticRegression\", tr_x, tr_y, ylim=None, cv=cv, n_jobs=1)\n",
    "plot_learning_curve(tree, \"DecisionTreeClassifier\", tr_x, tr_y, ylim=None, cv=None, n_jobs=1)\n",
    "plot_learning_curve(rf, \"RandomForestClassifier\", tr_x, tr_y, ylim=None, cv=None, n_jobs=1)\n",
    "plot_learning_curve(model, \"MLPClassifier\", tr_x, tr_y, ylim=None, cv=None, n_jobs=1)\n",
    "\n",
    "plot_learning_curve(lgb_model, \"LGBM\", tr_x, tr_y, ylim=None, cv=None, n_jobs=1)\n",
    "plot_learning_curve(xgb_model, \"XGBOOST\", tr_x, tr_y, ylim=None, cv=None, n_jobs=1)\n"
   ]
  },
  {
   "cell_type": "code",
   "execution_count": 7,
   "id": "4efc7355-30aa-4973-8aaa-7f16ad972cde",
   "metadata": {},
   "outputs": [],
   "source": [
    "from keras.models import Sequential\n",
    "from keras.layers import *\n",
    "from keras.layers import Conv1D\n",
    "from keras.optimizers import Adam, SGD, RMSprop\n",
    "from keras.losses import categorical_crossentropy\n",
    "from keras.utils import to_categorical\n",
    "from keras.callbacks import CSVLogger, ModelCheckpoint, ReduceLROnPlateau"
   ]
  },
  {
   "cell_type": "code",
   "execution_count": null,
   "id": "9a210227-8dee-4871-b49a-f678bf0a6ba0",
   "metadata": {},
   "outputs": [],
   "source": []
  },
  {
   "cell_type": "code",
   "execution_count": 8,
   "id": "dddd2abf-6c23-4463-947f-4b4b4afca6b1",
   "metadata": {},
   "outputs": [],
   "source": [
    "Y=Y.map(\n",
    "{1:0,\n",
    "2:1,\n",
    "3:2}\n",
    ")"
   ]
  },
  {
   "cell_type": "code",
   "execution_count": 9,
   "id": "831cab05-e2fa-4ec7-b1eb-690bd642e1b8",
   "metadata": {},
   "outputs": [
    {
     "name": "stdout",
     "output_type": "stream",
     "text": [
      "(359, 26, 1) (359, 3)\n",
      "(287, 26, 1) (72, 26, 1) (287, 3) (72, 3)\n"
     ]
    }
   ],
   "source": [
    "y=to_categorical(Y.values)\n",
    "x = np.expand_dims(X.values, axis=-1)\n",
    "print(x.shape, y.shape)\n",
    "x_train, x_test, y_train, y_test = train_test_split(x, y, test_size=0.2, shuffle=True)\n",
    "print(x_train.shape,x_test.shape,y_train.shape,y_test.shape)"
   ]
  },
  {
   "cell_type": "code",
   "execution_count": 10,
   "id": "6326ba53-fb7f-4898-b791-54bbc2f8a00e",
   "metadata": {},
   "outputs": [
    {
     "name": "stdout",
     "output_type": "stream",
     "text": [
      "Model: \"sequential\"\n",
      "_________________________________________________________________\n",
      " Layer (type)                Output Shape              Param #   \n",
      "=================================================================\n",
      " conv1d (Conv1D)             (None, 13, 4)             16        \n",
      "                                                                 \n",
      " conv1d_1 (Conv1D)           (None, 7, 8)              200       \n",
      "                                                                 \n",
      " conv1d_2 (Conv1D)           (None, 4, 16)             1168      \n",
      "                                                                 \n",
      " flatten (Flatten)           (None, 64)                0         \n",
      "                                                                 \n",
      " dense (Dense)               (None, 3)                 195       \n",
      "                                                                 \n",
      "=================================================================\n",
      "Total params: 1,579\n",
      "Trainable params: 1,579\n",
      "Non-trainable params: 0\n",
      "_________________________________________________________________\n"
     ]
    }
   ],
   "source": [
    "# 建模\n",
    "model = Sequential()\n",
    "model.add(Conv1D(filters=4, kernel_size=3, padding='same', input_shape=(x.shape[1], 1), activation='tanh', strides=2))\n",
    "model.add(Conv1D(filters=8, kernel_size=6, padding='same', activation='tanh', strides=2))\n",
    "model.add(Conv1D(filters=16, kernel_size=9, padding='same', activation='tanh', strides=2))\n",
    "model.add(Flatten())\n",
    "model.add(Dense(3, activation='softmax'))\n",
    "model.summary()"
   ]
  },
  {
   "cell_type": "code",
   "execution_count": 11,
   "id": "a29f57fd-9a6b-4207-837f-8e2fb1e6c910",
   "metadata": {},
   "outputs": [
    {
     "name": "stdout",
     "output_type": "stream",
     "text": [
      "Epoch 1/100\n",
      "1/5 [=====>........................] - ETA: 1s - loss: 1.1025 - accuracy: 0.3281WARNING:tensorflow:Can save best model only with val_acc available, skipping.\n",
      "5/5 [==============================] - 0s 31ms/step - loss: 1.1077 - accuracy: 0.2927 - val_loss: 1.0804 - val_accuracy: 0.3889 - lr: 1.0000e-04\n",
      "Epoch 2/100\n",
      "1/5 [=====>........................] - ETA: 0s - loss: 1.0980 - accuracy: 0.3281WARNING:tensorflow:Can save best model only with val_acc available, skipping.\n",
      "5/5 [==============================] - 0s 6ms/step - loss: 1.1018 - accuracy: 0.3066 - val_loss: 1.0741 - val_accuracy: 0.3889 - lr: 1.0000e-04\n",
      "Epoch 3/100\n",
      "1/5 [=====>........................] - ETA: 0s - loss: 1.0912 - accuracy: 0.3438WARNING:tensorflow:Can save best model only with val_acc available, skipping.\n",
      "5/5 [==============================] - 0s 6ms/step - loss: 1.0962 - accuracy: 0.3206 - val_loss: 1.0676 - val_accuracy: 0.4028 - lr: 1.0000e-04\n",
      "Epoch 4/100\n",
      "1/5 [=====>........................] - ETA: 0s - loss: 1.0903 - accuracy: 0.3594WARNING:tensorflow:Can save best model only with val_acc available, skipping.\n",
      "5/5 [==============================] - 0s 7ms/step - loss: 1.0905 - accuracy: 0.3345 - val_loss: 1.0613 - val_accuracy: 0.4306 - lr: 1.0000e-04\n",
      "Epoch 5/100\n",
      "1/5 [=====>........................] - ETA: 0s - loss: 1.0757 - accuracy: 0.4219WARNING:tensorflow:Can save best model only with val_acc available, skipping.\n",
      "5/5 [==============================] - 0s 7ms/step - loss: 1.0849 - accuracy: 0.3554 - val_loss: 1.0551 - val_accuracy: 0.4444 - lr: 1.0000e-04\n",
      "Epoch 6/100\n",
      "1/5 [=====>........................] - ETA: 0s - loss: 1.0566 - accuracy: 0.4844WARNING:tensorflow:Can save best model only with val_acc available, skipping.\n",
      "5/5 [==============================] - 0s 6ms/step - loss: 1.0797 - accuracy: 0.3798 - val_loss: 1.0489 - val_accuracy: 0.4583 - lr: 1.0000e-04\n",
      "Epoch 7/100\n",
      "1/5 [=====>........................] - ETA: 0s - loss: 1.0866 - accuracy: 0.3750WARNING:tensorflow:Can save best model only with val_acc available, skipping.\n",
      "5/5 [==============================] - 0s 7ms/step - loss: 1.0740 - accuracy: 0.3972 - val_loss: 1.0431 - val_accuracy: 0.5000 - lr: 1.0000e-04\n",
      "Epoch 8/100\n",
      "1/5 [=====>........................] - ETA: 0s - loss: 1.0703 - accuracy: 0.3750WARNING:tensorflow:Can save best model only with val_acc available, skipping.\n",
      "5/5 [==============================] - 0s 7ms/step - loss: 1.0690 - accuracy: 0.4077 - val_loss: 1.0370 - val_accuracy: 0.5139 - lr: 1.0000e-04\n",
      "Epoch 9/100\n",
      "1/5 [=====>........................] - ETA: 0s - loss: 1.0753 - accuracy: 0.3750WARNING:tensorflow:Can save best model only with val_acc available, skipping.\n",
      "5/5 [==============================] - 0s 6ms/step - loss: 1.0637 - accuracy: 0.4286 - val_loss: 1.0310 - val_accuracy: 0.5556 - lr: 1.0000e-04\n",
      "Epoch 10/100\n",
      "1/5 [=====>........................] - ETA: 0s - loss: 1.0948 - accuracy: 0.2812WARNING:tensorflow:Can save best model only with val_acc available, skipping.\n",
      "5/5 [==============================] - 0s 7ms/step - loss: 1.0584 - accuracy: 0.4495 - val_loss: 1.0251 - val_accuracy: 0.5694 - lr: 1.0000e-04\n",
      "Epoch 11/100\n",
      "1/5 [=====>........................] - ETA: 0s - loss: 1.0394 - accuracy: 0.4688WARNING:tensorflow:Can save best model only with val_acc available, skipping.\n",
      "5/5 [==============================] - 0s 7ms/step - loss: 1.0534 - accuracy: 0.4634 - val_loss: 1.0191 - val_accuracy: 0.5833 - lr: 1.0000e-04\n",
      "Epoch 12/100\n",
      "1/5 [=====>........................] - ETA: 0s - loss: 1.0838 - accuracy: 0.4375WARNING:tensorflow:Can save best model only with val_acc available, skipping.\n",
      "5/5 [==============================] - 0s 9ms/step - loss: 1.0483 - accuracy: 0.4808 - val_loss: 1.0134 - val_accuracy: 0.5972 - lr: 1.0000e-04\n",
      "Epoch 13/100\n",
      "1/5 [=====>........................] - ETA: 0s - loss: 1.0238 - accuracy: 0.5469WARNING:tensorflow:Can save best model only with val_acc available, skipping.\n",
      "5/5 [==============================] - 0s 6ms/step - loss: 1.0433 - accuracy: 0.4878 - val_loss: 1.0075 - val_accuracy: 0.5972 - lr: 1.0000e-04\n",
      "Epoch 14/100\n",
      "1/5 [=====>........................] - ETA: 0s - loss: 1.0481 - accuracy: 0.5312WARNING:tensorflow:Can save best model only with val_acc available, skipping.\n",
      "5/5 [==============================] - 0s 7ms/step - loss: 1.0382 - accuracy: 0.5192 - val_loss: 1.0017 - val_accuracy: 0.6111 - lr: 1.0000e-04\n",
      "Epoch 15/100\n",
      "1/5 [=====>........................] - ETA: 0s - loss: 1.0424 - accuracy: 0.4844WARNING:tensorflow:Can save best model only with val_acc available, skipping.\n",
      "5/5 [==============================] - 0s 7ms/step - loss: 1.0334 - accuracy: 0.5296 - val_loss: 0.9958 - val_accuracy: 0.6250 - lr: 1.0000e-04\n",
      "Epoch 16/100\n",
      "1/5 [=====>........................] - ETA: 0s - loss: 1.0617 - accuracy: 0.4844WARNING:tensorflow:Can save best model only with val_acc available, skipping.\n",
      "5/5 [==============================] - 0s 7ms/step - loss: 1.0283 - accuracy: 0.5436 - val_loss: 0.9902 - val_accuracy: 0.6389 - lr: 1.0000e-04\n",
      "Epoch 17/100\n",
      "1/5 [=====>........................] - ETA: 0s - loss: 1.0067 - accuracy: 0.6250WARNING:tensorflow:Can save best model only with val_acc available, skipping.\n",
      "5/5 [==============================] - 0s 7ms/step - loss: 1.0233 - accuracy: 0.5401 - val_loss: 0.9847 - val_accuracy: 0.6389 - lr: 1.0000e-04\n",
      "Epoch 18/100\n",
      "1/5 [=====>........................] - ETA: 0s - loss: 1.0183 - accuracy: 0.5625WARNING:tensorflow:Can save best model only with val_acc available, skipping.\n",
      "5/5 [==============================] - 0s 8ms/step - loss: 1.0184 - accuracy: 0.5401 - val_loss: 0.9792 - val_accuracy: 0.6389 - lr: 1.0000e-04\n",
      "Epoch 19/100\n",
      "1/5 [=====>........................] - ETA: 0s - loss: 1.0129 - accuracy: 0.5312WARNING:tensorflow:Can save best model only with val_acc available, skipping.\n",
      "5/5 [==============================] - 0s 7ms/step - loss: 1.0135 - accuracy: 0.5436 - val_loss: 0.9737 - val_accuracy: 0.6528 - lr: 1.0000e-04\n",
      "Epoch 20/100\n",
      "1/5 [=====>........................] - ETA: 0s - loss: 1.0127 - accuracy: 0.5781WARNING:tensorflow:Can save best model only with val_acc available, skipping.\n",
      "5/5 [==============================] - 0s 7ms/step - loss: 1.0086 - accuracy: 0.5714 - val_loss: 0.9683 - val_accuracy: 0.6528 - lr: 1.0000e-04\n",
      "Epoch 21/100\n",
      "1/5 [=====>........................] - ETA: 0s - loss: 0.9880 - accuracy: 0.6250WARNING:tensorflow:Can save best model only with val_acc available, skipping.\n",
      "5/5 [==============================] - 0s 7ms/step - loss: 1.0039 - accuracy: 0.5889 - val_loss: 0.9627 - val_accuracy: 0.6667 - lr: 1.0000e-04\n",
      "Epoch 22/100\n",
      "1/5 [=====>........................] - ETA: 0s - loss: 1.0013 - accuracy: 0.5312WARNING:tensorflow:Can save best model only with val_acc available, skipping.\n",
      "5/5 [==============================] - 0s 7ms/step - loss: 0.9989 - accuracy: 0.5958 - val_loss: 0.9572 - val_accuracy: 0.6806 - lr: 1.0000e-04\n",
      "Epoch 23/100\n",
      "1/5 [=====>........................] - ETA: 0s - loss: 0.9745 - accuracy: 0.6719WARNING:tensorflow:Can save best model only with val_acc available, skipping.\n",
      "5/5 [==============================] - 0s 7ms/step - loss: 0.9942 - accuracy: 0.5993 - val_loss: 0.9516 - val_accuracy: 0.7083 - lr: 1.0000e-04\n",
      "Epoch 24/100\n",
      "1/5 [=====>........................] - ETA: 0s - loss: 1.0197 - accuracy: 0.5469WARNING:tensorflow:Can save best model only with val_acc available, skipping.\n",
      "5/5 [==============================] - 0s 7ms/step - loss: 0.9893 - accuracy: 0.5923 - val_loss: 0.9460 - val_accuracy: 0.7222 - lr: 1.0000e-04\n",
      "Epoch 25/100\n",
      "1/5 [=====>........................] - ETA: 0s - loss: 0.9954 - accuracy: 0.5312WARNING:tensorflow:Can save best model only with val_acc available, skipping.\n",
      "5/5 [==============================] - 0s 7ms/step - loss: 0.9845 - accuracy: 0.6132 - val_loss: 0.9404 - val_accuracy: 0.7361 - lr: 1.0000e-04\n",
      "Epoch 26/100\n",
      "1/5 [=====>........................] - ETA: 0s - loss: 1.0265 - accuracy: 0.5938WARNING:tensorflow:Can save best model only with val_acc available, skipping.\n",
      "5/5 [==============================] - 0s 9ms/step - loss: 0.9797 - accuracy: 0.6202 - val_loss: 0.9349 - val_accuracy: 0.7361 - lr: 1.0000e-04\n",
      "Epoch 27/100\n",
      "1/5 [=====>........................] - ETA: 0s - loss: 0.9752 - accuracy: 0.6562WARNING:tensorflow:Can save best model only with val_acc available, skipping.\n",
      "5/5 [==============================] - 0s 8ms/step - loss: 0.9749 - accuracy: 0.6411 - val_loss: 0.9293 - val_accuracy: 0.7361 - lr: 1.0000e-04\n",
      "Epoch 28/100\n",
      "1/5 [=====>........................] - ETA: 0s - loss: 0.9700 - accuracy: 0.6250WARNING:tensorflow:Can save best model only with val_acc available, skipping.\n",
      "5/5 [==============================] - 0s 6ms/step - loss: 0.9701 - accuracy: 0.6481 - val_loss: 0.9239 - val_accuracy: 0.7361 - lr: 1.0000e-04\n",
      "Epoch 29/100\n",
      "1/5 [=====>........................] - ETA: 0s - loss: 0.9388 - accuracy: 0.6719WARNING:tensorflow:Can save best model only with val_acc available, skipping.\n",
      "5/5 [==============================] - 0s 6ms/step - loss: 0.9655 - accuracy: 0.6516 - val_loss: 0.9182 - val_accuracy: 0.7361 - lr: 1.0000e-04\n",
      "Epoch 30/100\n",
      "1/5 [=====>........................] - ETA: 0s - loss: 0.9305 - accuracy: 0.6875WARNING:tensorflow:Can save best model only with val_acc available, skipping.\n",
      "5/5 [==============================] - 0s 8ms/step - loss: 0.9607 - accuracy: 0.6585 - val_loss: 0.9129 - val_accuracy: 0.7361 - lr: 1.0000e-04\n",
      "Epoch 31/100\n",
      "1/5 [=====>........................] - ETA: 0s - loss: 0.9685 - accuracy: 0.6250WARNING:tensorflow:Can save best model only with val_acc available, skipping.\n",
      "5/5 [==============================] - 0s 8ms/step - loss: 0.9560 - accuracy: 0.6655 - val_loss: 0.9074 - val_accuracy: 0.7500 - lr: 1.0000e-04\n",
      "Epoch 32/100\n",
      "1/5 [=====>........................] - ETA: 0s - loss: 0.9631 - accuracy: 0.6250WARNING:tensorflow:Can save best model only with val_acc available, skipping.\n",
      "5/5 [==============================] - 0s 8ms/step - loss: 0.9512 - accuracy: 0.6690 - val_loss: 0.9022 - val_accuracy: 0.7500 - lr: 1.0000e-04\n",
      "Epoch 33/100\n",
      "1/5 [=====>........................] - ETA: 0s - loss: 0.9373 - accuracy: 0.6719WARNING:tensorflow:Can save best model only with val_acc available, skipping.\n",
      "5/5 [==============================] - 0s 7ms/step - loss: 0.9468 - accuracy: 0.6620 - val_loss: 0.8970 - val_accuracy: 0.7500 - lr: 1.0000e-04\n",
      "Epoch 34/100\n",
      "1/5 [=====>........................] - ETA: 0s - loss: 0.9429 - accuracy: 0.6719WARNING:tensorflow:Can save best model only with val_acc available, skipping.\n",
      "5/5 [==============================] - 0s 8ms/step - loss: 0.9424 - accuracy: 0.6585 - val_loss: 0.8918 - val_accuracy: 0.7500 - lr: 1.0000e-04\n",
      "Epoch 35/100\n",
      "1/5 [=====>........................] - ETA: 0s - loss: 0.9765 - accuracy: 0.6094WARNING:tensorflow:Can save best model only with val_acc available, skipping.\n",
      "5/5 [==============================] - 0s 8ms/step - loss: 0.9381 - accuracy: 0.6620 - val_loss: 0.8868 - val_accuracy: 0.7500 - lr: 1.0000e-04\n",
      "Epoch 36/100\n",
      "1/5 [=====>........................] - ETA: 0s - loss: 0.9521 - accuracy: 0.6094WARNING:tensorflow:Can save best model only with val_acc available, skipping.\n",
      "5/5 [==============================] - 0s 7ms/step - loss: 0.9335 - accuracy: 0.6620 - val_loss: 0.8820 - val_accuracy: 0.7500 - lr: 1.0000e-04\n",
      "Epoch 37/100\n",
      "1/5 [=====>........................] - ETA: 0s - loss: 0.8811 - accuracy: 0.7188WARNING:tensorflow:Can save best model only with val_acc available, skipping.\n",
      "5/5 [==============================] - 0s 7ms/step - loss: 0.9294 - accuracy: 0.6585 - val_loss: 0.8771 - val_accuracy: 0.7500 - lr: 1.0000e-04\n",
      "Epoch 38/100\n",
      "1/5 [=====>........................] - ETA: 0s - loss: 0.9021 - accuracy: 0.6719WARNING:tensorflow:Can save best model only with val_acc available, skipping.\n",
      "5/5 [==============================] - 0s 8ms/step - loss: 0.9253 - accuracy: 0.6620 - val_loss: 0.8721 - val_accuracy: 0.7500 - lr: 1.0000e-04\n",
      "Epoch 39/100\n",
      "1/5 [=====>........................] - ETA: 0s - loss: 0.8909 - accuracy: 0.7188WARNING:tensorflow:Can save best model only with val_acc available, skipping.\n",
      "5/5 [==============================] - 0s 8ms/step - loss: 0.9212 - accuracy: 0.6655 - val_loss: 0.8673 - val_accuracy: 0.7500 - lr: 1.0000e-04\n",
      "Epoch 40/100\n",
      "1/5 [=====>........................] - ETA: 0s - loss: 0.9718 - accuracy: 0.5625WARNING:tensorflow:Can save best model only with val_acc available, skipping.\n",
      "5/5 [==============================] - 0s 8ms/step - loss: 0.9169 - accuracy: 0.6655 - val_loss: 0.8627 - val_accuracy: 0.7500 - lr: 1.0000e-04\n",
      "Epoch 41/100\n",
      "1/5 [=====>........................] - ETA: 0s - loss: 0.9290 - accuracy: 0.6406WARNING:tensorflow:Can save best model only with val_acc available, skipping.\n",
      "5/5 [==============================] - 0s 9ms/step - loss: 0.9130 - accuracy: 0.6655 - val_loss: 0.8581 - val_accuracy: 0.7500 - lr: 1.0000e-04\n",
      "Epoch 42/100\n",
      "1/5 [=====>........................] - ETA: 0s - loss: 0.8879 - accuracy: 0.7188WARNING:tensorflow:Can save best model only with val_acc available, skipping.\n",
      "5/5 [==============================] - 0s 8ms/step - loss: 0.9092 - accuracy: 0.6655 - val_loss: 0.8535 - val_accuracy: 0.7500 - lr: 1.0000e-04\n",
      "Epoch 43/100\n",
      "1/5 [=====>........................] - ETA: 0s - loss: 0.8190 - accuracy: 0.7969WARNING:tensorflow:Can save best model only with val_acc available, skipping.\n",
      "5/5 [==============================] - 0s 8ms/step - loss: 0.9055 - accuracy: 0.6690 - val_loss: 0.8486 - val_accuracy: 0.7500 - lr: 1.0000e-04\n",
      "Epoch 44/100\n",
      "1/5 [=====>........................] - ETA: 0s - loss: 0.9529 - accuracy: 0.6406WARNING:tensorflow:Can save best model only with val_acc available, skipping.\n",
      "5/5 [==============================] - 0s 7ms/step - loss: 0.9014 - accuracy: 0.6690 - val_loss: 0.8442 - val_accuracy: 0.7500 - lr: 1.0000e-04\n",
      "Epoch 45/100\n",
      "1/5 [=====>........................] - ETA: 0s - loss: 0.9308 - accuracy: 0.6406WARNING:tensorflow:Can save best model only with val_acc available, skipping.\n",
      "5/5 [==============================] - 0s 7ms/step - loss: 0.8978 - accuracy: 0.6690 - val_loss: 0.8400 - val_accuracy: 0.7500 - lr: 1.0000e-04\n",
      "Epoch 46/100\n",
      "1/5 [=====>........................] - ETA: 0s - loss: 0.9014 - accuracy: 0.6562WARNING:tensorflow:Can save best model only with val_acc available, skipping.\n",
      "5/5 [==============================] - 0s 7ms/step - loss: 0.8943 - accuracy: 0.6690 - val_loss: 0.8358 - val_accuracy: 0.7500 - lr: 1.0000e-04\n",
      "Epoch 47/100\n",
      "1/5 [=====>........................] - ETA: 0s - loss: 0.8806 - accuracy: 0.6562WARNING:tensorflow:Can save best model only with val_acc available, skipping.\n",
      "5/5 [==============================] - 0s 7ms/step - loss: 0.8909 - accuracy: 0.6690 - val_loss: 0.8318 - val_accuracy: 0.7500 - lr: 1.0000e-04\n",
      "Epoch 48/100\n",
      "1/5 [=====>........................] - ETA: 0s - loss: 0.9526 - accuracy: 0.6250WARNING:tensorflow:Can save best model only with val_acc available, skipping.\n",
      "5/5 [==============================] - 0s 8ms/step - loss: 0.8877 - accuracy: 0.6690 - val_loss: 0.8277 - val_accuracy: 0.7500 - lr: 1.0000e-04\n",
      "Epoch 49/100\n",
      "1/5 [=====>........................] - ETA: 0s - loss: 0.8284 - accuracy: 0.7344WARNING:tensorflow:Can save best model only with val_acc available, skipping.\n",
      "5/5 [==============================] - 0s 6ms/step - loss: 0.8847 - accuracy: 0.6690 - val_loss: 0.8240 - val_accuracy: 0.7500 - lr: 1.0000e-04\n",
      "Epoch 50/100\n",
      "1/5 [=====>........................] - ETA: 0s - loss: 0.8808 - accuracy: 0.6562WARNING:tensorflow:Can save best model only with val_acc available, skipping.\n",
      "5/5 [==============================] - 0s 7ms/step - loss: 0.8815 - accuracy: 0.6690 - val_loss: 0.8206 - val_accuracy: 0.7500 - lr: 1.0000e-04\n",
      "Epoch 51/100\n",
      "1/5 [=====>........................] - ETA: 0s - loss: 0.8836 - accuracy: 0.6875WARNING:tensorflow:Can save best model only with val_acc available, skipping.\n",
      "5/5 [==============================] - 0s 7ms/step - loss: 0.8789 - accuracy: 0.6690 - val_loss: 0.8173 - val_accuracy: 0.7500 - lr: 1.0000e-04\n",
      "Epoch 52/100\n",
      "1/5 [=====>........................] - ETA: 0s - loss: 0.9957 - accuracy: 0.5469WARNING:tensorflow:Can save best model only with val_acc available, skipping.\n",
      "5/5 [==============================] - 0s 8ms/step - loss: 0.8759 - accuracy: 0.6690 - val_loss: 0.8143 - val_accuracy: 0.7500 - lr: 1.0000e-04\n",
      "Epoch 53/100\n",
      "1/5 [=====>........................] - ETA: 0s - loss: 0.9071 - accuracy: 0.6406WARNING:tensorflow:Can save best model only with val_acc available, skipping.\n",
      "5/5 [==============================] - 0s 8ms/step - loss: 0.8734 - accuracy: 0.6690 - val_loss: 0.8114 - val_accuracy: 0.7500 - lr: 1.0000e-04\n",
      "Epoch 54/100\n",
      "1/5 [=====>........................] - ETA: 0s - loss: 0.8479 - accuracy: 0.7031WARNING:tensorflow:Can save best model only with val_acc available, skipping.\n",
      "5/5 [==============================] - 0s 8ms/step - loss: 0.8711 - accuracy: 0.6690 - val_loss: 0.8081 - val_accuracy: 0.7500 - lr: 1.0000e-04\n",
      "Epoch 55/100\n",
      "1/5 [=====>........................] - ETA: 0s - loss: 0.8251 - accuracy: 0.7188WARNING:tensorflow:Can save best model only with val_acc available, skipping.\n",
      "5/5 [==============================] - 0s 8ms/step - loss: 0.8687 - accuracy: 0.6690 - val_loss: 0.8049 - val_accuracy: 0.7500 - lr: 1.0000e-04\n",
      "Epoch 56/100\n",
      "1/5 [=====>........................] - ETA: 0s - loss: 0.9327 - accuracy: 0.5625WARNING:tensorflow:Can save best model only with val_acc available, skipping.\n",
      "5/5 [==============================] - 0s 8ms/step - loss: 0.8660 - accuracy: 0.6690 - val_loss: 0.8023 - val_accuracy: 0.7500 - lr: 1.0000e-04\n",
      "Epoch 57/100\n",
      "1/5 [=====>........................] - ETA: 0s - loss: 0.9039 - accuracy: 0.6250WARNING:tensorflow:Can save best model only with val_acc available, skipping.\n",
      "5/5 [==============================] - 0s 7ms/step - loss: 0.8639 - accuracy: 0.6690 - val_loss: 0.7995 - val_accuracy: 0.7500 - lr: 1.0000e-04\n",
      "Epoch 58/100\n",
      "1/5 [=====>........................] - ETA: 0s - loss: 0.9108 - accuracy: 0.6250WARNING:tensorflow:Can save best model only with val_acc available, skipping.\n",
      "5/5 [==============================] - 0s 9ms/step - loss: 0.8618 - accuracy: 0.6690 - val_loss: 0.7969 - val_accuracy: 0.7500 - lr: 1.0000e-04\n",
      "Epoch 59/100\n",
      "1/5 [=====>........................] - ETA: 0s - loss: 0.7548 - accuracy: 0.7500WARNING:tensorflow:Can save best model only with val_acc available, skipping.\n",
      "5/5 [==============================] - 0s 6ms/step - loss: 0.8600 - accuracy: 0.6690 - val_loss: 0.7945 - val_accuracy: 0.7500 - lr: 1.0000e-04\n",
      "Epoch 60/100\n",
      "1/5 [=====>........................] - ETA: 0s - loss: 0.8019 - accuracy: 0.7031WARNING:tensorflow:Can save best model only with val_acc available, skipping.\n",
      "5/5 [==============================] - 0s 6ms/step - loss: 0.8579 - accuracy: 0.6690 - val_loss: 0.7922 - val_accuracy: 0.7500 - lr: 1.0000e-04\n",
      "Epoch 61/100\n",
      "1/5 [=====>........................] - ETA: 0s - loss: 0.8275 - accuracy: 0.6719WARNING:tensorflow:Can save best model only with val_acc available, skipping.\n",
      "5/5 [==============================] - 0s 7ms/step - loss: 0.8560 - accuracy: 0.6690 - val_loss: 0.7903 - val_accuracy: 0.7500 - lr: 1.0000e-04\n",
      "Epoch 62/100\n",
      "1/5 [=====>........................] - ETA: 0s - loss: 0.7903 - accuracy: 0.7188WARNING:tensorflow:Can save best model only with val_acc available, skipping.\n",
      "5/5 [==============================] - 0s 7ms/step - loss: 0.8546 - accuracy: 0.6690 - val_loss: 0.7881 - val_accuracy: 0.7500 - lr: 1.0000e-04\n",
      "Epoch 63/100\n",
      "1/5 [=====>........................] - ETA: 0s - loss: 0.8748 - accuracy: 0.6250WARNING:tensorflow:Can save best model only with val_acc available, skipping.\n",
      "5/5 [==============================] - 0s 6ms/step - loss: 0.8528 - accuracy: 0.6690 - val_loss: 0.7865 - val_accuracy: 0.7500 - lr: 1.0000e-04\n",
      "Epoch 64/100\n",
      "1/5 [=====>........................] - ETA: 0s - loss: 0.7878 - accuracy: 0.7344WARNING:tensorflow:Can save best model only with val_acc available, skipping.\n",
      "5/5 [==============================] - 0s 7ms/step - loss: 0.8515 - accuracy: 0.6690 - val_loss: 0.7846 - val_accuracy: 0.7500 - lr: 1.0000e-04\n",
      "Epoch 65/100\n",
      "1/5 [=====>........................] - ETA: 0s - loss: 0.8107 - accuracy: 0.7188WARNING:tensorflow:Can save best model only with val_acc available, skipping.\n",
      "5/5 [==============================] - 0s 7ms/step - loss: 0.8501 - accuracy: 0.6690 - val_loss: 0.7829 - val_accuracy: 0.7500 - lr: 1.0000e-04\n",
      "Epoch 66/100\n",
      "1/5 [=====>........................] - ETA: 0s - loss: 0.8822 - accuracy: 0.6562WARNING:tensorflow:Can save best model only with val_acc available, skipping.\n",
      "5/5 [==============================] - 0s 7ms/step - loss: 0.8486 - accuracy: 0.6690 - val_loss: 0.7815 - val_accuracy: 0.7500 - lr: 1.0000e-04\n",
      "Epoch 67/100\n",
      "1/5 [=====>........................] - ETA: 0s - loss: 0.8422 - accuracy: 0.6562WARNING:tensorflow:Can save best model only with val_acc available, skipping.\n",
      "5/5 [==============================] - 0s 7ms/step - loss: 0.8473 - accuracy: 0.6690 - val_loss: 0.7802 - val_accuracy: 0.7500 - lr: 1.0000e-04\n",
      "Epoch 68/100\n",
      "1/5 [=====>........................] - ETA: 0s - loss: 0.8658 - accuracy: 0.6406WARNING:tensorflow:Can save best model only with val_acc available, skipping.\n",
      "5/5 [==============================] - 0s 7ms/step - loss: 0.8461 - accuracy: 0.6690 - val_loss: 0.7789 - val_accuracy: 0.7500 - lr: 1.0000e-04\n",
      "Epoch 69/100\n",
      "1/5 [=====>........................] - ETA: 0s - loss: 0.8564 - accuracy: 0.6562WARNING:tensorflow:Can save best model only with val_acc available, skipping.\n",
      "5/5 [==============================] - 0s 6ms/step - loss: 0.8449 - accuracy: 0.6690 - val_loss: 0.7776 - val_accuracy: 0.7500 - lr: 1.0000e-04\n",
      "Epoch 70/100\n",
      "1/5 [=====>........................] - ETA: 0s - loss: 0.8394 - accuracy: 0.6719WARNING:tensorflow:Can save best model only with val_acc available, skipping.\n",
      "5/5 [==============================] - 0s 7ms/step - loss: 0.8438 - accuracy: 0.6690 - val_loss: 0.7762 - val_accuracy: 0.7500 - lr: 1.0000e-04\n",
      "Epoch 71/100\n",
      "1/5 [=====>........................] - ETA: 0s - loss: 0.9167 - accuracy: 0.5938WARNING:tensorflow:Can save best model only with val_acc available, skipping.\n",
      "5/5 [==============================] - 0s 7ms/step - loss: 0.8426 - accuracy: 0.6690 - val_loss: 0.7751 - val_accuracy: 0.7500 - lr: 1.0000e-04\n",
      "Epoch 72/100\n",
      "1/5 [=====>........................] - ETA: 0s - loss: 0.7920 - accuracy: 0.6875WARNING:tensorflow:Can save best model only with val_acc available, skipping.\n",
      "5/5 [==============================] - 0s 7ms/step - loss: 0.8418 - accuracy: 0.6690 - val_loss: 0.7739 - val_accuracy: 0.7500 - lr: 1.0000e-04\n",
      "Epoch 73/100\n",
      "1/5 [=====>........................] - ETA: 0s - loss: 0.9779 - accuracy: 0.5781WARNING:tensorflow:Can save best model only with val_acc available, skipping.\n",
      "5/5 [==============================] - 0s 7ms/step - loss: 0.8407 - accuracy: 0.6690 - val_loss: 0.7731 - val_accuracy: 0.7500 - lr: 1.0000e-04\n",
      "Epoch 74/100\n",
      "1/5 [=====>........................] - ETA: 0s - loss: 0.9334 - accuracy: 0.5781WARNING:tensorflow:Can save best model only with val_acc available, skipping.\n",
      "5/5 [==============================] - 0s 8ms/step - loss: 0.8398 - accuracy: 0.6690 - val_loss: 0.7724 - val_accuracy: 0.7500 - lr: 1.0000e-04\n",
      "Epoch 75/100\n",
      "1/5 [=====>........................] - ETA: 0s - loss: 0.7545 - accuracy: 0.7344WARNING:tensorflow:Can save best model only with val_acc available, skipping.\n",
      "5/5 [==============================] - 0s 7ms/step - loss: 0.8392 - accuracy: 0.6690 - val_loss: 0.7713 - val_accuracy: 0.7500 - lr: 1.0000e-04\n",
      "Epoch 76/100\n",
      "1/5 [=====>........................] - ETA: 0s - loss: 0.7978 - accuracy: 0.7188WARNING:tensorflow:Can save best model only with val_acc available, skipping.\n",
      "5/5 [==============================] - 0s 8ms/step - loss: 0.8382 - accuracy: 0.6690 - val_loss: 0.7707 - val_accuracy: 0.7500 - lr: 1.0000e-04\n",
      "Epoch 77/100\n",
      "1/5 [=====>........................] - ETA: 0s - loss: 0.8773 - accuracy: 0.6406WARNING:tensorflow:Can save best model only with val_acc available, skipping.\n",
      "5/5 [==============================] - 0s 7ms/step - loss: 0.8374 - accuracy: 0.6690 - val_loss: 0.7701 - val_accuracy: 0.7500 - lr: 1.0000e-04\n",
      "Epoch 78/100\n",
      "1/5 [=====>........................] - ETA: 0s - loss: 0.9542 - accuracy: 0.5781WARNING:tensorflow:Can save best model only with val_acc available, skipping.\n",
      "5/5 [==============================] - 0s 8ms/step - loss: 0.8366 - accuracy: 0.6690 - val_loss: 0.7698 - val_accuracy: 0.7500 - lr: 1.0000e-04\n",
      "Epoch 79/100\n",
      "1/5 [=====>........................] - ETA: 0s - loss: 0.8529 - accuracy: 0.6562WARNING:tensorflow:Can save best model only with val_acc available, skipping.\n",
      "5/5 [==============================] - 0s 27ms/step - loss: 0.8359 - accuracy: 0.6690 - val_loss: 0.7691 - val_accuracy: 0.7500 - lr: 1.0000e-04\n",
      "Epoch 80/100\n",
      "1/5 [=====>........................] - ETA: 0s - loss: 0.7943 - accuracy: 0.6875WARNING:tensorflow:Can save best model only with val_acc available, skipping.\n",
      "5/5 [==============================] - 0s 6ms/step - loss: 0.8351 - accuracy: 0.6690 - val_loss: 0.7685 - val_accuracy: 0.7500 - lr: 1.0000e-04\n",
      "Epoch 81/100\n",
      "1/5 [=====>........................] - ETA: 0s - loss: 0.8425 - accuracy: 0.6719WARNING:tensorflow:Can save best model only with val_acc available, skipping.\n",
      "5/5 [==============================] - 0s 7ms/step - loss: 0.8344 - accuracy: 0.6690 - val_loss: 0.7678 - val_accuracy: 0.7500 - lr: 1.0000e-04\n",
      "Epoch 82/100\n",
      "1/5 [=====>........................] - ETA: 0s - loss: 0.8593 - accuracy: 0.6562WARNING:tensorflow:Can save best model only with val_acc available, skipping.\n",
      "5/5 [==============================] - 0s 8ms/step - loss: 0.8337 - accuracy: 0.6690 - val_loss: 0.7672 - val_accuracy: 0.7500 - lr: 1.0000e-04\n",
      "Epoch 83/100\n",
      "1/5 [=====>........................] - ETA: 0s - loss: 0.8669 - accuracy: 0.6094WARNING:tensorflow:Can save best model only with val_acc available, skipping.\n",
      "5/5 [==============================] - 0s 8ms/step - loss: 0.8331 - accuracy: 0.6690 - val_loss: 0.7672 - val_accuracy: 0.7500 - lr: 1.0000e-04\n",
      "Epoch 84/100\n",
      "1/5 [=====>........................] - ETA: 0s - loss: 0.7414 - accuracy: 0.7500WARNING:tensorflow:Can save best model only with val_acc available, skipping.\n",
      "5/5 [==============================] - 0s 8ms/step - loss: 0.8323 - accuracy: 0.6690 - val_loss: 0.7669 - val_accuracy: 0.7500 - lr: 1.0000e-04\n",
      "Epoch 85/100\n",
      "1/5 [=====>........................] - ETA: 0s - loss: 0.7515 - accuracy: 0.7188WARNING:tensorflow:Can save best model only with val_acc available, skipping.\n",
      "5/5 [==============================] - 0s 7ms/step - loss: 0.8316 - accuracy: 0.6690 - val_loss: 0.7665 - val_accuracy: 0.7500 - lr: 1.0000e-04\n",
      "Epoch 86/100\n",
      "1/5 [=====>........................] - ETA: 0s - loss: 0.8771 - accuracy: 0.6406WARNING:tensorflow:Can save best model only with val_acc available, skipping.\n",
      "5/5 [==============================] - 0s 7ms/step - loss: 0.8309 - accuracy: 0.6690 - val_loss: 0.7663 - val_accuracy: 0.7500 - lr: 1.0000e-04\n",
      "Epoch 87/100\n",
      "1/5 [=====>........................] - ETA: 0s - loss: 0.8063 - accuracy: 0.6875WARNING:tensorflow:Can save best model only with val_acc available, skipping.\n",
      "5/5 [==============================] - 0s 8ms/step - loss: 0.8303 - accuracy: 0.6690 - val_loss: 0.7662 - val_accuracy: 0.7500 - lr: 1.0000e-04\n",
      "Epoch 88/100\n",
      "1/5 [=====>........................] - ETA: 0s - loss: 0.6807 - accuracy: 0.7656WARNING:tensorflow:Can save best model only with val_acc available, skipping.\n",
      "5/5 [==============================] - 0s 8ms/step - loss: 0.8297 - accuracy: 0.6690 - val_loss: 0.7658 - val_accuracy: 0.7500 - lr: 1.0000e-04\n",
      "Epoch 89/100\n",
      "1/5 [=====>........................] - ETA: 0s - loss: 0.9122 - accuracy: 0.6094WARNING:tensorflow:Can save best model only with val_acc available, skipping.\n",
      "5/5 [==============================] - 0s 7ms/step - loss: 0.8290 - accuracy: 0.6690 - val_loss: 0.7658 - val_accuracy: 0.7500 - lr: 1.0000e-04\n",
      "Epoch 90/100\n",
      "1/5 [=====>........................] - ETA: 0s - loss: 0.8473 - accuracy: 0.6562WARNING:tensorflow:Can save best model only with val_acc available, skipping.\n",
      "5/5 [==============================] - 0s 6ms/step - loss: 0.8283 - accuracy: 0.6690 - val_loss: 0.7656 - val_accuracy: 0.7500 - lr: 1.0000e-04\n",
      "Epoch 91/100\n",
      "1/5 [=====>........................] - ETA: 0s - loss: 0.7287 - accuracy: 0.7344WARNING:tensorflow:Can save best model only with val_acc available, skipping.\n",
      "5/5 [==============================] - 0s 7ms/step - loss: 0.8277 - accuracy: 0.6690 - val_loss: 0.7651 - val_accuracy: 0.7500 - lr: 1.0000e-04\n",
      "Epoch 92/100\n",
      "1/5 [=====>........................] - ETA: 0s - loss: 0.8566 - accuracy: 0.6719WARNING:tensorflow:Can save best model only with val_acc available, skipping.\n",
      "5/5 [==============================] - 0s 7ms/step - loss: 0.8270 - accuracy: 0.6690 - val_loss: 0.7648 - val_accuracy: 0.7500 - lr: 1.0000e-04\n",
      "Epoch 93/100\n",
      "1/5 [=====>........................] - ETA: 0s - loss: 0.7582 - accuracy: 0.7344WARNING:tensorflow:Can save best model only with val_acc available, skipping.\n",
      "5/5 [==============================] - 0s 7ms/step - loss: 0.8264 - accuracy: 0.6690 - val_loss: 0.7646 - val_accuracy: 0.7500 - lr: 1.0000e-04\n",
      "Epoch 94/100\n",
      "1/5 [=====>........................] - ETA: 0s - loss: 0.8030 - accuracy: 0.7031WARNING:tensorflow:Can save best model only with val_acc available, skipping.\n",
      "5/5 [==============================] - 0s 7ms/step - loss: 0.8259 - accuracy: 0.6690 - val_loss: 0.7645 - val_accuracy: 0.7500 - lr: 1.0000e-04\n",
      "Epoch 95/100\n",
      "1/5 [=====>........................] - ETA: 0s - loss: 0.7884 - accuracy: 0.7188WARNING:tensorflow:Can save best model only with val_acc available, skipping.\n",
      "5/5 [==============================] - 0s 8ms/step - loss: 0.8253 - accuracy: 0.6690 - val_loss: 0.7646 - val_accuracy: 0.7500 - lr: 1.0000e-04\n",
      "Epoch 96/100\n",
      "1/5 [=====>........................] - ETA: 0s - loss: 0.5940 - accuracy: 0.8594WARNING:tensorflow:Can save best model only with val_acc available, skipping.\n",
      "5/5 [==============================] - 0s 7ms/step - loss: 0.8247 - accuracy: 0.6690 - val_loss: 0.7643 - val_accuracy: 0.7500 - lr: 1.0000e-04\n",
      "Epoch 97/100\n",
      "1/5 [=====>........................] - ETA: 0s - loss: 0.8613 - accuracy: 0.6406WARNING:tensorflow:Can save best model only with val_acc available, skipping.\n",
      "5/5 [==============================] - 0s 6ms/step - loss: 0.8240 - accuracy: 0.6690 - val_loss: 0.7643 - val_accuracy: 0.7500 - lr: 1.0000e-04\n",
      "Epoch 98/100\n",
      "1/5 [=====>........................] - ETA: 0s - loss: 0.8052 - accuracy: 0.6875WARNING:tensorflow:Can save best model only with val_acc available, skipping.\n",
      "5/5 [==============================] - 0s 7ms/step - loss: 0.8235 - accuracy: 0.6690 - val_loss: 0.7641 - val_accuracy: 0.7500 - lr: 1.0000e-04\n",
      "Epoch 99/100\n",
      "1/5 [=====>........................] - ETA: 0s - loss: 0.8158 - accuracy: 0.6562WARNING:tensorflow:Can save best model only with val_acc available, skipping.\n",
      "5/5 [==============================] - 0s 8ms/step - loss: 0.8229 - accuracy: 0.6690 - val_loss: 0.7639 - val_accuracy: 0.7500 - lr: 1.0000e-04\n",
      "Epoch 100/100\n",
      "1/5 [=====>........................] - ETA: 0s - loss: 0.7086 - accuracy: 0.7500WARNING:tensorflow:Can save best model only with val_acc available, skipping.\n",
      "5/5 [==============================] - 0s 9ms/step - loss: 0.8224 - accuracy: 0.6690 - val_loss: 0.7634 - val_accuracy: 0.7500 - lr: 1.0000e-04\n"
     ]
    },
    {
     "data": {
      "text/plain": [
       "<keras.callbacks.History at 0x1e8f2436d90>"
      ]
     },
     "execution_count": 11,
     "metadata": {},
     "output_type": "execute_result"
    }
   ],
   "source": [
    "\n",
    "# 优化器选择Adam 学习率为0.0001 损失函数使用交叉熵 训练200次\n",
    "model.compile(optimizer=Adam(0.0001), loss=categorical_crossentropy, metrics=['accuracy'])\n",
    "model.fit(x_train, y_train, validation_data=(x_test, y_test), epochs=100, verbose=1, batch_size=64, callbacks=[\n",
    "    CSVLogger('train.log'),\n",
    "    ModelCheckpoint('mode5l.h5', save_best_only=True, verbose=1, monitor='val_acc'),\n",
    "    ReduceLROnPlateau(factor=0.9, patience=5, verbose=2)\n",
    "])"
   ]
  },
  {
   "cell_type": "code",
   "execution_count": 12,
   "id": "2ac07b82-b895-4aa2-9a28-ea90aa4505e4",
   "metadata": {},
   "outputs": [
    {
     "name": "stdout",
     "output_type": "stream",
     "text": [
      "3/3 [==============================] - 0s 1ms/step\n"
     ]
    }
   ],
   "source": [
    "from sklearn.metrics import classification_report,f1_score\n",
    "pre_test = model.predict(x_test)"
   ]
  },
  {
   "cell_type": "code",
   "execution_count": 13,
   "id": "8f7c1423-1652-4e06-a82a-d2589ab5004a",
   "metadata": {},
   "outputs": [
    {
     "name": "stdout",
     "output_type": "stream",
     "text": [
      "3/3 [==============================] - 0s 1ms/step\n",
      "0.8571428571428571\n"
     ]
    }
   ],
   "source": [
    "pre_test = model.predict(x_test)\n",
    "print(f1_score(np.argmax(pre_test, axis=1), np.argmax(y_test, axis=1),average='weighted'))"
   ]
  },
  {
   "cell_type": "code",
   "execution_count": 14,
   "id": "20338bc8-7f2d-4338-bc61-6405b02edcc4",
   "metadata": {},
   "outputs": [
    {
     "name": "stdout",
     "output_type": "stream",
     "text": [
      "9/9 [==============================] - 0s 625us/step\n"
     ]
    }
   ],
   "source": [
    "pre_train= model.predict(x_train)"
   ]
  },
  {
   "cell_type": "code",
   "execution_count": 15,
   "id": "8b541842-fdd3-45dd-83a1-86f2dfdc2216",
   "metadata": {},
   "outputs": [
    {
     "name": "stdout",
     "output_type": "stream",
     "text": [
      "训练集F1:0.802\n",
      "测试集F1:0.857\n"
     ]
    }
   ],
   "source": [
    "print(\"训练集F1:{:.3f}\".format(f1_score(np.argmax(pre_train, axis=1), np.argmax(y_train, axis=1),average='weighted')))\n",
    "print(\"测试集F1:{:.3f}\".format(f1_score(np.argmax(pre_test, axis=1), np.argmax(y_test, axis=1),average='weighted')))"
   ]
  },
  {
   "cell_type": "code",
   "execution_count": 16,
   "id": "f20ddd8e-7204-4e79-b8d2-547974f70325",
   "metadata": {},
   "outputs": [
    {
     "data": {
      "text/plain": [
       "[0, 0, 0, 0, 3, 0, 0, 0, 1, 0, 0, 0, 0, 0, 0, 0, 0, 1, 0, 0, 0, 0, 0, 0, 0, 0]"
      ]
     },
     "execution_count": 16,
     "metadata": {},
     "output_type": "execute_result"
    }
   ],
   "source": [
    "from collections import Counter\n",
    "aa='a、b、c、d、e、f、g、h、i、j、k、l、m、n、o、p、q、r、s、t、u、v、w、x、y、z'.split('、')\n",
    "i='eerie'\n",
    "tt=Counter(i.strip())\n",
    "bb=[0]*26\n",
    "for j in tt:\n",
    "    bb[aa.index(j)]=tt[j]\n",
    "bb"
   ]
  },
  {
   "cell_type": "code",
   "execution_count": 32,
   "id": "744e65c1-9123-4262-8ea5-b615bcf3a1aa",
   "metadata": {},
   "outputs": [],
   "source": [
    "x = np.expand_dims(np.array([bb,bb]), axis=-1)"
   ]
  },
  {
   "cell_type": "code",
   "execution_count": 37,
   "id": "065b2d3d-4535-4e8c-8d30-f161b29ab75c",
   "metadata": {},
   "outputs": [
    {
     "name": "stdout",
     "output_type": "stream",
     "text": [
      "1/1 [==============================] - 0s 12ms/step\n"
     ]
    },
    {
     "data": {
      "text/plain": [
       "array([0.07548992, 0.74496204, 0.17954797], dtype=float32)"
      ]
     },
     "execution_count": 37,
     "metadata": {},
     "output_type": "execute_result"
    }
   ],
   "source": [
    "model.predict(x)[0]#eerie为012档的概率"
   ]
  },
  {
   "cell_type": "code",
   "execution_count": 39,
   "id": "bb5dd3ba-cc4e-4574-b5bd-f3812cf844b7",
   "metadata": {},
   "outputs": [
    {
     "name": "stdout",
     "output_type": "stream",
     "text": [
      "1/1 [==============================] - 0s 11ms/step\n"
     ]
    },
    {
     "data": {
      "text/plain": [
       "1"
      ]
     },
     "execution_count": 39,
     "metadata": {},
     "output_type": "execute_result"
    }
   ],
   "source": [
    "np.argmax(model.predict(x), axis=1)[0]#eerie为1档"
   ]
  },
  {
   "cell_type": "code",
   "execution_count": null,
   "id": "d7552699-77e1-4ca4-8997-60128fb59bc4",
   "metadata": {},
   "outputs": [],
   "source": []
  }
 ],
 "metadata": {
  "kernelspec": {
   "display_name": "Python 3 (Bundle)",
   "language": "python",
   "name": "pyb"
  },
  "language_info": {
   "codemirror_mode": {
    "name": "ipython",
    "version": 3
   },
   "file_extension": ".py",
   "mimetype": "text/x-python",
   "name": "python",
   "nbconvert_exporter": "python",
   "pygments_lexer": "ipython3",
   "version": "3.8.10"
  }
 },
 "nbformat": 4,
 "nbformat_minor": 5
}
