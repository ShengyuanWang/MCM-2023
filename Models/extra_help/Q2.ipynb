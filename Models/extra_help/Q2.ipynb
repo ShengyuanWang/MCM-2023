{
 "cells": [
  {
   "cell_type": "code",
   "execution_count": 21,
   "id": "dd907ab2-29cd-4819-904e-5536319620d1",
   "metadata": {},
   "outputs": [],
   "source": [
    "import pandas as pd\n",
    "import matplotlib.pyplot as plt\n",
    "import numpy as np\n",
    "np.set_printoptions(suppress=True)\n",
    "from sklearn.preprocessing import MinMaxScaler\n",
    "from pylab import *\n",
    "plt.rcParams['font.sans-serif'] = ['SimHei']\n",
    "plt.rcParams['axes.unicode_minus'] = False \n",
    "from sklearn import metrics\n",
    "from sklearn.metrics import mean_squared_error #均方误差\n",
    "from sklearn.metrics import mean_absolute_error #平方绝对误差\n"
   ]
  },
  {
   "cell_type": "code",
   "execution_count": 7,
   "id": "1cd3a56d-d2d8-4fac-8e49-6161ba3588e6",
   "metadata": {},
   "outputs": [
    {
     "data": {
      "text/html": [
       "<div>\n",
       "<style scoped>\n",
       "    .dataframe tbody tr th:only-of-type {\n",
       "        vertical-align: middle;\n",
       "    }\n",
       "\n",
       "    .dataframe tbody tr th {\n",
       "        vertical-align: top;\n",
       "    }\n",
       "\n",
       "    .dataframe thead th {\n",
       "        text-align: right;\n",
       "    }\n",
       "</style>\n",
       "<table border=\"1\" class=\"dataframe\">\n",
       "  <thead>\n",
       "    <tr style=\"text-align: right;\">\n",
       "      <th></th>\n",
       "      <th>Unnamed: 0</th>\n",
       "      <th>Date</th>\n",
       "      <th>Contest number</th>\n",
       "      <th>Word</th>\n",
       "      <th>Number of  reported results</th>\n",
       "      <th>Number in hard mode</th>\n",
       "      <th>1 try</th>\n",
       "      <th>2 tries</th>\n",
       "      <th>3 tries</th>\n",
       "      <th>4 tries</th>\n",
       "      <th>...</th>\n",
       "      <th>r</th>\n",
       "      <th>s</th>\n",
       "      <th>t</th>\n",
       "      <th>u</th>\n",
       "      <th>v</th>\n",
       "      <th>w</th>\n",
       "      <th>x</th>\n",
       "      <th>y</th>\n",
       "      <th>z</th>\n",
       "      <th>hard pecent</th>\n",
       "    </tr>\n",
       "  </thead>\n",
       "  <tbody>\n",
       "    <tr>\n",
       "      <th>0</th>\n",
       "      <td>0</td>\n",
       "      <td>2022-12-31</td>\n",
       "      <td>560</td>\n",
       "      <td>manly</td>\n",
       "      <td>20380</td>\n",
       "      <td>1899</td>\n",
       "      <td>0</td>\n",
       "      <td>2</td>\n",
       "      <td>17</td>\n",
       "      <td>37</td>\n",
       "      <td>...</td>\n",
       "      <td>0</td>\n",
       "      <td>0</td>\n",
       "      <td>0</td>\n",
       "      <td>0</td>\n",
       "      <td>0</td>\n",
       "      <td>0</td>\n",
       "      <td>0</td>\n",
       "      <td>1</td>\n",
       "      <td>0</td>\n",
       "      <td>0.093180</td>\n",
       "    </tr>\n",
       "    <tr>\n",
       "      <th>1</th>\n",
       "      <td>1</td>\n",
       "      <td>2022-12-30</td>\n",
       "      <td>559</td>\n",
       "      <td>molar</td>\n",
       "      <td>21204</td>\n",
       "      <td>1973</td>\n",
       "      <td>0</td>\n",
       "      <td>4</td>\n",
       "      <td>21</td>\n",
       "      <td>38</td>\n",
       "      <td>...</td>\n",
       "      <td>1</td>\n",
       "      <td>0</td>\n",
       "      <td>0</td>\n",
       "      <td>0</td>\n",
       "      <td>0</td>\n",
       "      <td>0</td>\n",
       "      <td>0</td>\n",
       "      <td>0</td>\n",
       "      <td>0</td>\n",
       "      <td>0.093048</td>\n",
       "    </tr>\n",
       "    <tr>\n",
       "      <th>2</th>\n",
       "      <td>2</td>\n",
       "      <td>2022-12-29</td>\n",
       "      <td>558</td>\n",
       "      <td>havoc</td>\n",
       "      <td>20001</td>\n",
       "      <td>1919</td>\n",
       "      <td>0</td>\n",
       "      <td>2</td>\n",
       "      <td>16</td>\n",
       "      <td>38</td>\n",
       "      <td>...</td>\n",
       "      <td>0</td>\n",
       "      <td>0</td>\n",
       "      <td>0</td>\n",
       "      <td>0</td>\n",
       "      <td>1</td>\n",
       "      <td>0</td>\n",
       "      <td>0</td>\n",
       "      <td>0</td>\n",
       "      <td>0</td>\n",
       "      <td>0.095945</td>\n",
       "    </tr>\n",
       "    <tr>\n",
       "      <th>3</th>\n",
       "      <td>3</td>\n",
       "      <td>2022-12-28</td>\n",
       "      <td>557</td>\n",
       "      <td>impel</td>\n",
       "      <td>20160</td>\n",
       "      <td>1937</td>\n",
       "      <td>0</td>\n",
       "      <td>3</td>\n",
       "      <td>21</td>\n",
       "      <td>40</td>\n",
       "      <td>...</td>\n",
       "      <td>0</td>\n",
       "      <td>0</td>\n",
       "      <td>0</td>\n",
       "      <td>0</td>\n",
       "      <td>0</td>\n",
       "      <td>0</td>\n",
       "      <td>0</td>\n",
       "      <td>0</td>\n",
       "      <td>0</td>\n",
       "      <td>0.096081</td>\n",
       "    </tr>\n",
       "    <tr>\n",
       "      <th>4</th>\n",
       "      <td>4</td>\n",
       "      <td>2022-12-27</td>\n",
       "      <td>556</td>\n",
       "      <td>condo</td>\n",
       "      <td>20879</td>\n",
       "      <td>2012</td>\n",
       "      <td>0</td>\n",
       "      <td>2</td>\n",
       "      <td>17</td>\n",
       "      <td>35</td>\n",
       "      <td>...</td>\n",
       "      <td>0</td>\n",
       "      <td>0</td>\n",
       "      <td>0</td>\n",
       "      <td>0</td>\n",
       "      <td>0</td>\n",
       "      <td>0</td>\n",
       "      <td>0</td>\n",
       "      <td>0</td>\n",
       "      <td>0</td>\n",
       "      <td>0.096365</td>\n",
       "    </tr>\n",
       "  </tbody>\n",
       "</table>\n",
       "<p>5 rows × 41 columns</p>\n",
       "</div>"
      ],
      "text/plain": [
       "   Unnamed: 0       Date  Contest number   Word  Number of  reported results  \\\n",
       "0           0 2022-12-31             560  manly                        20380   \n",
       "1           1 2022-12-30             559  molar                        21204   \n",
       "2           2 2022-12-29             558  havoc                        20001   \n",
       "3           3 2022-12-28             557  impel                        20160   \n",
       "4           4 2022-12-27             556  condo                        20879   \n",
       "\n",
       "   Number in hard mode  1 try  2 tries  3 tries  4 tries  ...  r  s  t  u  v  \\\n",
       "0                 1899      0        2       17       37  ...  0  0  0  0  0   \n",
       "1                 1973      0        4       21       38  ...  1  0  0  0  0   \n",
       "2                 1919      0        2       16       38  ...  0  0  0  0  1   \n",
       "3                 1937      0        3       21       40  ...  0  0  0  0  0   \n",
       "4                 2012      0        2       17       35  ...  0  0  0  0  0   \n",
       "\n",
       "   w  x  y  z  hard pecent  \n",
       "0  0  0  1  0     0.093180  \n",
       "1  0  0  0  0     0.093048  \n",
       "2  0  0  0  0     0.095945  \n",
       "3  0  0  0  0     0.096081  \n",
       "4  0  0  0  0     0.096365  \n",
       "\n",
       "[5 rows x 41 columns]"
      ]
     },
     "execution_count": 7,
     "metadata": {},
     "output_type": "execute_result"
    }
   ],
   "source": [
    "data=pd.read_excel('newdata.xlsx')\n",
    "data.head()"
   ]
  },
  {
   "cell_type": "code",
   "execution_count": 8,
   "id": "ca3beb06-4e7f-4317-b182-c1c2de7a51a1",
   "metadata": {},
   "outputs": [
    {
     "data": {
      "text/plain": [
       "Index(['Unnamed: 0', 'Date', 'Contest number', 'Word',\n",
       "       'Number of  reported results', 'Number in hard mode', '1 try',\n",
       "       '2 tries', '3 tries', '4 tries', '5 tries', '6 tries',\n",
       "       '7 or more tries (X)', 'len', 'a', 'b', 'c', 'd', 'e', 'f', 'g', 'h',\n",
       "       'i', 'j', 'k', 'l', 'm', 'n', 'o', 'p', 'q', 'r', 's', 't', 'u', 'v',\n",
       "       'w', 'x', 'y', 'z', 'hard pecent'],\n",
       "      dtype='object')"
      ]
     },
     "execution_count": 8,
     "metadata": {},
     "output_type": "execute_result"
    }
   ],
   "source": [
    "data.columns"
   ]
  },
  {
   "cell_type": "code",
   "execution_count": 9,
   "id": "d958c09c-2774-4f3a-a415-522a4da88dba",
   "metadata": {},
   "outputs": [
    {
     "data": {
      "text/plain": [
       "[0, 0, 0, 0, 3, 0, 0, 0, 1, 0, 0, 0, 0, 0, 0, 0, 0, 1, 0, 0, 0, 0, 0, 0, 0, 0]"
      ]
     },
     "execution_count": 9,
     "metadata": {},
     "output_type": "execute_result"
    }
   ],
   "source": [
    "from collections import Counter\n",
    "aa='a、b、c、d、e、f、g、h、i、j、k、l、m、n、o、p、q、r、s、t、u、v、w、x、y、z'.split('、')\n",
    "i='eerie'\n",
    "tt=Counter(i.strip())\n",
    "bb=[0]*26\n",
    "for j in tt:\n",
    "    bb[aa.index(j)]=tt[j]\n",
    "bb"
   ]
  },
  {
   "cell_type": "code",
   "execution_count": 27,
   "id": "73b00a2a-8bc0-46da-87f8-3e8f0d4ec079",
   "metadata": {},
   "outputs": [],
   "source": [
    "cc=bb"
   ]
  },
  {
   "cell_type": "code",
   "execution_count": 22,
   "id": "5e26075f-e12f-4424-88a6-8a347ec64e53",
   "metadata": {},
   "outputs": [],
   "source": [
    "import pandas as pd\n",
    "from numpy import *\n",
    "import numpy as np\n",
    "from sklearn.neural_network import MLPRegressor\n",
    "from sklearn.tree import DecisionTreeRegressor\n",
    "from sklearn.ensemble import RandomForestRegressor\n",
    "from sklearn.linear_model import LinearRegression\n",
    "\n",
    "import xgboost as xgb\n",
    "import lightgbm as lgb\n",
    "import numpy as np\n",
    "\n",
    "\n",
    "import matplotlib.pyplot as plt\n",
    "from sklearn.metrics import mean_absolute_error,r2_score\n",
    "from sklearn.multioutput import MultiOutputRegressor,RegressorChain \n",
    "import warnings\n",
    "warnings.filterwarnings(\"ignore\")\n",
    "from sklearn.model_selection import train_test_split\n",
    "def mape(actual, pred): \n",
    "    actual, pred = np.array(actual), np.array(pred)\n",
    "    return np.mean(np.abs((actual - pred) / actual))\n"
   ]
  },
  {
   "cell_type": "code",
   "execution_count": 25,
   "id": "d760e1db-7589-4153-af99-aa8b69299488",
   "metadata": {},
   "outputs": [],
   "source": [
    "X=data[['a', 'b', 'c', 'd', 'e', 'f', 'g', 'h',\n",
    "       'i', 'j', 'k', 'l', 'm', 'n', 'o', 'p', 'q', 'r', 's', 't', 'u', 'v',\n",
    "       'w', 'x', 'y', 'z']]\n",
    "Y=data[[ '1 try',\n",
    "       '2 tries', '3 tries', '4 tries', '5 tries', '6 tries',\n",
    "       '7 or more tries (X)']]\n",
    "\n",
    "tr_x,te_x,tr_y,te_y=train_test_split(X ,Y,test_size=0.1,random_state=5)"
   ]
  },
  {
   "cell_type": "code",
   "execution_count": 28,
   "id": "bd4489a9-737a-4f3e-b7bd-7b553945e70e",
   "metadata": {},
   "outputs": [
    {
     "name": "stdout",
     "output_type": "stream",
     "text": [
      "神经网络:\n",
      "1 try\n",
      "训练集平均绝对百分比误差:1.370\n",
      "测试集平均绝对百分比误差:1.421\n",
      "\n",
      "2 tries\n",
      "训练集平均绝对百分比误差:0.724\n",
      "测试集平均绝对百分比误差:0.424\n",
      "\n",
      "3 tries\n",
      "训练集平均绝对百分比误差:0.220\n",
      "测试集平均绝对百分比误差:0.194\n",
      "\n",
      "4 tries\n",
      "训练集平均绝对百分比误差:0.114\n",
      "测试集平均绝对百分比误差:0.124\n",
      "\n",
      "5 tries\n",
      "训练集平均绝对百分比误差:0.148\n",
      "测试集平均绝对百分比误差:0.194\n",
      "\n",
      "6 tries\n",
      "训练集平均绝对百分比误差:0.398\n",
      "测试集平均绝对百分比误差:0.484\n",
      "\n",
      "7 or more tries (X)\n",
      "训练集平均绝对百分比误差:0.998\n",
      "测试集平均绝对百分比误差:1.079\n",
      "\n"
     ]
    },
    {
     "data": {
      "text/plain": [
       "array([[ 0.58137445,  8.08008622, 24.72970571, 31.8133658 , 22.54581941,\n",
       "        10.16208832,  1.70634877]])"
      ]
     },
     "execution_count": 28,
     "metadata": {},
     "output_type": "execute_result"
    }
   ],
   "source": [
    "model=RegressorChain(MLPRegressor(hidden_layer_sizes=10,max_iter=1000))\n",
    "model.fit(tr_x,tr_y)\n",
    "print(\"神经网络:\")\n",
    "for i in range(7):\n",
    "    print(Y.columns[i])\n",
    "    trX_Y=model.predict(tr_x)[:,i].reshape(-1,1)\n",
    "    tre_Y=model.predict(te_x)[:,i].reshape(-1,1)\n",
    "    print(\"训练集平均绝对百分比误差:{:.3f}\".format(mape(trX_Y,tr_y.values[:,i].reshape(-1,1))))\n",
    "    print(\"测试集平均绝对百分比误差:{:.3f}\".format(mape(tre_Y,te_y.values[:,i].reshape(-1,1))))\n",
    "    print()\n",
    "model.predict(np.array(cc).reshape(1, -1))"
   ]
  },
  {
   "cell_type": "code",
   "execution_count": 29,
   "id": "112a185b-e85c-4444-b378-96bfe7b84d5f",
   "metadata": {},
   "outputs": [
    {
     "name": "stdout",
     "output_type": "stream",
     "text": [
      "\n",
      "线性回归:\n",
      "1 try\n",
      "训练集平均绝对百分比误差:1.678\n",
      "测试集平均绝对百分比误差:1.088\n",
      "\n",
      "2 tries\n",
      "训练集平均绝对百分比误差:0.958\n",
      "测试集平均绝对百分比误差:0.394\n",
      "\n",
      "3 tries\n",
      "训练集平均绝对百分比误差:0.217\n",
      "测试集平均绝对百分比误差:0.224\n",
      "\n",
      "4 tries\n",
      "训练集平均绝对百分比误差:0.115\n",
      "测试集平均绝对百分比误差:0.122\n",
      "\n",
      "5 tries\n",
      "训练集平均绝对百分比误差:0.158\n",
      "测试集平均绝对百分比误差:0.177\n",
      "\n",
      "6 tries\n",
      "训练集平均绝对百分比误差:0.367\n",
      "测试集平均绝对百分比误差:0.392\n",
      "\n",
      "7 or more tries (X)\n",
      "训练集平均绝对百分比误差:0.777\n",
      "测试集平均绝对百分比误差:0.757\n",
      "\n"
     ]
    },
    {
     "data": {
      "text/plain": [
       "array([[ 0.80691408,  8.97951027, 24.46280171, 29.85321086, 21.54640271,\n",
       "        10.16407526,  3.15636345]])"
      ]
     },
     "execution_count": 29,
     "metadata": {},
     "output_type": "execute_result"
    }
   ],
   "source": [
    "model=RegressorChain(LinearRegression())\n",
    "model.fit(tr_x,tr_y)\n",
    "print(\"\\n线性回归:\")\n",
    "\n",
    "for i in range(7):\n",
    "    print(Y.columns[i])\n",
    "    trX_Y=model.predict(tr_x)[:,i].reshape(-1,1)\n",
    "    tre_Y=model.predict(te_x)[:,i].reshape(-1,1)\n",
    "    print(\"训练集平均绝对百分比误差:{:.3f}\".format(mape(trX_Y,tr_y.values[:,i].reshape(-1,1))))\n",
    "    print(\"测试集平均绝对百分比误差:{:.3f}\".format(mape(tre_Y,te_y.values[:,i].reshape(-1,1))))\n",
    "    print()\n",
    "model.predict(np.array(cc).reshape(1, -1))"
   ]
  },
  {
   "cell_type": "code",
   "execution_count": 30,
   "id": "ec1d4180-f9de-4e70-a2b6-862899559e00",
   "metadata": {},
   "outputs": [
    {
     "name": "stdout",
     "output_type": "stream",
     "text": [
      "\n",
      "决策树回归:\n",
      "1 try\n",
      "训练集平均绝对百分比误差:nan\n",
      "测试集平均绝对百分比误差:nan\n",
      "\n",
      "2 tries\n",
      "训练集平均绝对百分比误差:nan\n",
      "测试集平均绝对百分比误差:0.678\n",
      "\n",
      "3 tries\n",
      "训练集平均绝对百分比误差:0.003\n",
      "测试集平均绝对百分比误差:0.384\n",
      "\n",
      "4 tries\n",
      "训练集平均绝对百分比误差:0.002\n",
      "测试集平均绝对百分比误差:0.151\n",
      "\n",
      "5 tries\n",
      "训练集平均绝对百分比误差:0.003\n",
      "测试集平均绝对百分比误差:0.363\n",
      "\n",
      "6 tries\n",
      "训练集平均绝对百分比误差:0.005\n",
      "测试集平均绝对百分比误差:0.859\n",
      "\n",
      "7 or more tries (X)\n",
      "训练集平均绝对百分比误差:nan\n",
      "测试集平均绝对百分比误差:inf\n",
      "\n"
     ]
    },
    {
     "data": {
      "text/plain": [
       "array([[ 1., 10., 26., 32., 21.,  9.,  1.]])"
      ]
     },
     "execution_count": 30,
     "metadata": {},
     "output_type": "execute_result"
    }
   ],
   "source": [
    "model=RegressorChain(DecisionTreeRegressor(max_depth=50,random_state=0))\n",
    "model.fit(tr_x,tr_y)\n",
    "print(\"\\n决策树回归:\")\n",
    "\n",
    "for i in range(7):\n",
    "    print(Y.columns[i])\n",
    "    trX_Y=model.predict(tr_x)[:,i].reshape(-1,1)\n",
    "    tre_Y=model.predict(te_x)[:,i].reshape(-1,1)\n",
    "    print(\"训练集平均绝对百分比误差:{:.3f}\".format(mape(trX_Y,tr_y.values[:,i].reshape(-1,1))))\n",
    "    print(\"测试集平均绝对百分比误差:{:.3f}\".format(mape(tre_Y,te_y.values[:,i].reshape(-1,1))))\n",
    "    print()\n",
    "model.predict(np.array(cc).reshape(1, -1))"
   ]
  },
  {
   "cell_type": "code",
   "execution_count": 31,
   "id": "971d7d8e-9edc-4f40-b281-08103acae679",
   "metadata": {},
   "outputs": [
    {
     "name": "stdout",
     "output_type": "stream",
     "text": [
      "\n",
      "随机森林回归:\n",
      "1 try\n",
      "训练集平均绝对百分比误差:0.722\n",
      "测试集平均绝对百分比误差:1.448\n",
      "\n",
      "2 tries\n",
      "训练集平均绝对百分比误差:0.169\n",
      "测试集平均绝对百分比误差:0.548\n",
      "\n",
      "3 tries\n",
      "训练集平均绝对百分比误差:0.120\n",
      "测试集平均绝对百分比误差:0.267\n",
      "\n",
      "4 tries\n",
      "训练集平均绝对百分比误差:0.075\n",
      "测试集平均绝对百分比误差:0.118\n",
      "\n",
      "5 tries\n",
      "训练集平均绝对百分比误差:0.091\n",
      "测试集平均绝对百分比误差:0.233\n",
      "\n",
      "6 tries\n",
      "训练集平均绝对百分比误差:0.255\n",
      "测试集平均绝对百分比误差:0.509\n",
      "\n",
      "7 or more tries (X)\n",
      "训练集平均绝对百分比误差:0.680\n",
      "测试集平均绝对百分比误差:1.076\n",
      "\n"
     ]
    },
    {
     "data": {
      "text/plain": [
       "array([[ 0.23015385,  3.51320833, 18.326     , 31.263     , 27.5       ,\n",
       "        15.751     ,  2.861     ]])"
      ]
     },
     "execution_count": 31,
     "metadata": {},
     "output_type": "execute_result"
    }
   ],
   "source": [
    "model=RegressorChain(RandomForestRegressor(max_depth=20,n_estimators=1000,random_state=0))\n",
    "model.fit(tr_x,tr_y)\n",
    "print(\"\\n随机森林回归:\")\n",
    "\n",
    "for i in range(7):\n",
    "    print(Y.columns[i])\n",
    "    trX_Y=model.predict(tr_x)[:,i].reshape(-1,1)\n",
    "    tre_Y=model.predict(te_x)[:,i].reshape(-1,1)\n",
    "    print(\"训练集平均绝对百分比误差:{:.3f}\".format(mape(trX_Y,tr_y.values[:,i].reshape(-1,1))))\n",
    "    print(\"测试集平均绝对百分比误差:{:.3f}\".format(mape(tre_Y,te_y.values[:,i].reshape(-1,1))))\n",
    "    print()\n",
    "model.predict(np.array(cc).reshape(1, -1))"
   ]
  },
  {
   "cell_type": "code",
   "execution_count": 32,
   "id": "00d842bf-a502-4cb1-98cd-41195bad618c",
   "metadata": {},
   "outputs": [
    {
     "name": "stdout",
     "output_type": "stream",
     "text": [
      "\n",
      "LGBM回归:\n",
      "1 try\n",
      "训练集平均绝对百分比误差:0.996\n",
      "测试集平均绝对百分比误差:1.783\n",
      "\n",
      "2 tries\n",
      "训练集平均绝对百分比误差:0.386\n",
      "测试集平均绝对百分比误差:0.463\n",
      "\n",
      "3 tries\n",
      "训练集平均绝对百分比误差:0.201\n",
      "测试集平均绝对百分比误差:0.255\n",
      "\n",
      "4 tries\n",
      "训练集平均绝对百分比误差:0.115\n",
      "测试集平均绝对百分比误差:0.126\n",
      "\n",
      "5 tries\n",
      "训练集平均绝对百分比误差:0.182\n",
      "测试集平均绝对百分比误差:0.229\n",
      "\n",
      "6 tries\n",
      "训练集平均绝对百分比误差:0.417\n",
      "测试集平均绝对百分比误差:0.554\n",
      "\n",
      "7 or more tries (X)\n",
      "训练集平均绝对百分比误差:1.365\n",
      "测试集平均绝对百分比误差:1.905\n",
      "\n"
     ]
    },
    {
     "data": {
      "text/plain": [
       "array([[ 0.49282038,  7.10428038, 23.887638  , 30.54342356, 23.63403641,\n",
       "        11.79332021,  1.9465991 ]])"
      ]
     },
     "execution_count": 32,
     "metadata": {},
     "output_type": "execute_result"
    }
   ],
   "source": [
    "model=RegressorChain(lgb.LGBMRegressor())\n",
    "model.fit(tr_x,tr_y)\n",
    "print(\"\\nLGBM回归:\")\n",
    "\n",
    "for i in range(7):\n",
    "    print(Y.columns[i])\n",
    "    trX_Y=model.predict(tr_x)[:,i].reshape(-1,1)\n",
    "    tre_Y=model.predict(te_x)[:,i].reshape(-1,1)\n",
    "    print(\"训练集平均绝对百分比误差:{:.3f}\".format(mape(trX_Y,tr_y.values[:,i].reshape(-1,1))))\n",
    "    print(\"测试集平均绝对百分比误差:{:.3f}\".format(mape(tre_Y,te_y.values[:,i].reshape(-1,1))))\n",
    "    print()\n",
    "model.predict(np.array(cc).reshape(1, -1))"
   ]
  },
  {
   "cell_type": "code",
   "execution_count": 33,
   "id": "c602408f-fc48-4862-b787-6820b492fea1",
   "metadata": {},
   "outputs": [
    {
     "name": "stdout",
     "output_type": "stream",
     "text": [
      "\n",
      "XGBRegressor:\n",
      "1 try\n",
      "训练集平均绝对百分比误差:0.653\n",
      "测试集平均绝对百分比误差:29.106\n",
      "\n",
      "2 tries\n",
      "训练集平均绝对百分比误差:0.053\n",
      "测试集平均绝对百分比误差:0.451\n",
      "\n",
      "3 tries\n",
      "训练集平均绝对百分比误差:0.013\n",
      "测试集平均绝对百分比误差:0.264\n",
      "\n",
      "4 tries\n",
      "训练集平均绝对百分比误差:0.008\n",
      "测试集平均绝对百分比误差:0.131\n",
      "\n",
      "5 tries\n",
      "训练集平均绝对百分比误差:0.008\n",
      "测试集平均绝对百分比误差:0.213\n",
      "\n",
      "6 tries\n",
      "训练集平均绝对百分比误差:0.021\n",
      "测试集平均绝对百分比误差:0.644\n",
      "\n",
      "7 or more tries (X)\n",
      "训练集平均绝对百分比误差:0.125\n",
      "测试集平均绝对百分比误差:2.315\n",
      "\n"
     ]
    },
    {
     "data": {
      "text/plain": [
       "array([[ 0.11630215,  3.62400508, 19.63280106, 34.7289238 , 26.79278374,\n",
       "        12.05149937,  1.71731436]])"
      ]
     },
     "execution_count": 33,
     "metadata": {},
     "output_type": "execute_result"
    }
   ],
   "source": [
    "model=RegressorChain(xgb.XGBRegressor())\n",
    "model.fit(tr_x,tr_y)\n",
    "print(\"\\nXGBRegressor:\")\n",
    "\n",
    "for i in range(7):\n",
    "    print(Y.columns[i])\n",
    "    trX_Y=model.predict(tr_x)[:,i].reshape(-1,1)\n",
    "    tre_Y=model.predict(te_x)[:,i].reshape(-1,1)\n",
    "    print(\"训练集平均绝对百分比误差:{:.3f}\".format(mape(trX_Y,tr_y.values[:,i].reshape(-1,1))))\n",
    "    print(\"测试集平均绝对百分比误差:{:.3f}\".format(mape(tre_Y,te_y.values[:,i].reshape(-1,1))))\n",
    "    print()\n",
    "model.predict(np.array(cc).reshape(1, -1))"
   ]
  },
  {
   "cell_type": "code",
   "execution_count": null,
   "id": "fad9a6b0-95a5-4f8e-ad59-3da3416cec19",
   "metadata": {},
   "outputs": [],
   "source": []
  },
  {
   "cell_type": "code",
   "execution_count": null,
   "id": "21a60d75-f960-4bad-8961-e2df63362563",
   "metadata": {},
   "outputs": [],
   "source": []
  }
 ],
 "metadata": {
  "kernelspec": {
   "display_name": "Python 3 (Bundle)",
   "language": "python",
   "name": "pyb"
  },
  "language_info": {
   "codemirror_mode": {
    "name": "ipython",
    "version": 3
   },
   "file_extension": ".py",
   "mimetype": "text/x-python",
   "name": "python",
   "nbconvert_exporter": "python",
   "pygments_lexer": "ipython3",
   "version": "3.8.10"
  }
 },
 "nbformat": 4,
 "nbformat_minor": 5
}
