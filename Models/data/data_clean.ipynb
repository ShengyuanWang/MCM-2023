{
 "cells": [
  {
   "cell_type": "code",
   "execution_count": 31,
   "metadata": {
    "collapsed": true
   },
   "outputs": [],
   "source": [
    "import pandas as pd\n",
    "import numpy as np"
   ]
  },
  {
   "cell_type": "code",
   "execution_count": 32,
   "outputs": [
    {
     "name": "stdout",
     "output_type": "stream",
     "text": [
      "(479, 12)\n"
     ]
    },
    {
     "data": {
      "text/plain": "         Date  Contest number   Word  Number of  reported results  \\\n0  2022/12/31           560.0  manly                      20380.0   \n1  2022/12/30           559.0  molar                      21204.0   \n2  2022/12/29           558.0  havoc                      20001.0   \n3  2022/12/28           557.0  impel                      20160.0   \n4  2022/12/27           556.0  condo                      20879.0   \n\n   Number in hard mode  1 try  2 tries  3 tries  4 tries  5 tries  6 tries  \\\n0               1899.0    0.0      2.0     17.0     37.0     29.0     12.0   \n1               1973.0    0.0      4.0     21.0     38.0     26.0      9.0   \n2               1919.0    0.0      2.0     16.0     38.0     30.0     12.0   \n3               1937.0    0.0      3.0     21.0     40.0     25.0      9.0   \n4               2012.0    0.0      2.0     17.0     35.0     29.0     14.0   \n\n   7 or more tries (X)  \n0                  2.0  \n1                  1.0  \n2                  2.0  \n3                  1.0  \n4                  3.0  ",
      "text/html": "<div>\n<style scoped>\n    .dataframe tbody tr th:only-of-type {\n        vertical-align: middle;\n    }\n\n    .dataframe tbody tr th {\n        vertical-align: top;\n    }\n\n    .dataframe thead th {\n        text-align: right;\n    }\n</style>\n<table border=\"1\" class=\"dataframe\">\n  <thead>\n    <tr style=\"text-align: right;\">\n      <th></th>\n      <th>Date</th>\n      <th>Contest number</th>\n      <th>Word</th>\n      <th>Number of  reported results</th>\n      <th>Number in hard mode</th>\n      <th>1 try</th>\n      <th>2 tries</th>\n      <th>3 tries</th>\n      <th>4 tries</th>\n      <th>5 tries</th>\n      <th>6 tries</th>\n      <th>7 or more tries (X)</th>\n    </tr>\n  </thead>\n  <tbody>\n    <tr>\n      <th>0</th>\n      <td>2022/12/31</td>\n      <td>560.0</td>\n      <td>manly</td>\n      <td>20380.0</td>\n      <td>1899.0</td>\n      <td>0.0</td>\n      <td>2.0</td>\n      <td>17.0</td>\n      <td>37.0</td>\n      <td>29.0</td>\n      <td>12.0</td>\n      <td>2.0</td>\n    </tr>\n    <tr>\n      <th>1</th>\n      <td>2022/12/30</td>\n      <td>559.0</td>\n      <td>molar</td>\n      <td>21204.0</td>\n      <td>1973.0</td>\n      <td>0.0</td>\n      <td>4.0</td>\n      <td>21.0</td>\n      <td>38.0</td>\n      <td>26.0</td>\n      <td>9.0</td>\n      <td>1.0</td>\n    </tr>\n    <tr>\n      <th>2</th>\n      <td>2022/12/29</td>\n      <td>558.0</td>\n      <td>havoc</td>\n      <td>20001.0</td>\n      <td>1919.0</td>\n      <td>0.0</td>\n      <td>2.0</td>\n      <td>16.0</td>\n      <td>38.0</td>\n      <td>30.0</td>\n      <td>12.0</td>\n      <td>2.0</td>\n    </tr>\n    <tr>\n      <th>3</th>\n      <td>2022/12/28</td>\n      <td>557.0</td>\n      <td>impel</td>\n      <td>20160.0</td>\n      <td>1937.0</td>\n      <td>0.0</td>\n      <td>3.0</td>\n      <td>21.0</td>\n      <td>40.0</td>\n      <td>25.0</td>\n      <td>9.0</td>\n      <td>1.0</td>\n    </tr>\n    <tr>\n      <th>4</th>\n      <td>2022/12/27</td>\n      <td>556.0</td>\n      <td>condo</td>\n      <td>20879.0</td>\n      <td>2012.0</td>\n      <td>0.0</td>\n      <td>2.0</td>\n      <td>17.0</td>\n      <td>35.0</td>\n      <td>29.0</td>\n      <td>14.0</td>\n      <td>3.0</td>\n    </tr>\n  </tbody>\n</table>\n</div>"
     },
     "execution_count": 32,
     "metadata": {},
     "output_type": "execute_result"
    }
   ],
   "source": [
    "# Load data\n",
    "df = pd.read_csv('Problem_C_Data_Wordle.csv')\n",
    "# see the shape of Original Data\n",
    "print(df.shape)\n",
    "df.head()"
   ],
   "metadata": {
    "collapsed": false
   }
  },
  {
   "cell_type": "code",
   "execution_count": 33,
   "outputs": [
    {
     "name": "stderr",
     "output_type": "stream",
     "text": [
      "/var/folders/p9/xg25m12x1hz74ywfhyx4xtdm0000gn/T/ipykernel_24693/3919031737.py:4: FutureWarning: Dropping of nuisance columns in DataFrame reductions (with 'numeric_only=None') is deprecated; in a future version this will raise TypeError.  Select only valid columns before calling the reduction.\n",
      "  df = df.fillna(df.mean())\n"
     ]
    }
   ],
   "source": [
    "# Drop duplicates\n",
    "df = df.drop_duplicates()\n",
    "# Replace missing values with the mean of the column\n",
    "df = df.fillna(df.mean())"
   ],
   "metadata": {
    "collapsed": false
   }
  },
  {
   "cell_type": "code",
   "execution_count": 34,
   "outputs": [
    {
     "name": "stdout",
     "output_type": "stream",
     "text": [
      "(360, 12)\n"
     ]
    }
   ],
   "source": [
    "# Change the name of a column\n",
    "df = df.rename(columns={'Number of  reported results': 'Reported', 'Number in hard mode': 'Hard', '7 or more tries (X)': 'X'})\n",
    "print(df.shape)"
   ],
   "metadata": {
    "collapsed": false
   }
  },
  {
   "cell_type": "code",
   "execution_count": 35,
   "outputs": [],
   "source": [
    "def outliers(df, name):\n",
    "    # Calculate upper and lower bounds\n",
    "    q1 = df[name].quantile(0.25)\n",
    "    q3 = df[name].quantile(0.75)\n",
    "    iqr = q3 - q1\n",
    "    upper_bound = q3 + 1.5 * iqr\n",
    "    lower_bound = q1 - 1.5 * iqr\n",
    "\n",
    "    # Replace outliers with upper and lower bounds\n",
    "    df[name] = np.where(df[name] > upper_bound, upper_bound, df[name])\n",
    "    df[name] = np.where(df[name] < lower_bound, lower_bound, df[name])"
   ],
   "metadata": {
    "collapsed": false
   }
  },
  {
   "cell_type": "code",
   "execution_count": 36,
   "outputs": [],
   "source": [
    "outliers(df, 'Reported')\n",
    "outliers(df, 'Hard')"
   ],
   "metadata": {
    "collapsed": false
   }
  },
  {
   "cell_type": "code",
   "execution_count": 37,
   "outputs": [],
   "source": [
    "df.to_csv('cleaned_data.csv', index=False)"
   ],
   "metadata": {
    "collapsed": false
   }
  }
 ],
 "metadata": {
  "kernelspec": {
   "display_name": "Python 3",
   "language": "python",
   "name": "python3"
  },
  "language_info": {
   "codemirror_mode": {
    "name": "ipython",
    "version": 2
   },
   "file_extension": ".py",
   "mimetype": "text/x-python",
   "name": "python",
   "nbconvert_exporter": "python",
   "pygments_lexer": "ipython2",
   "version": "2.7.6"
  }
 },
 "nbformat": 4,
 "nbformat_minor": 0
}
