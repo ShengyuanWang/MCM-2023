{
 "cells": [
  {
   "cell_type": "code",
   "execution_count": 73,
   "metadata": {
    "collapsed": true
   },
   "outputs": [],
   "source": [
    "# required packages\n",
    "import pandas as pd"
   ]
  },
  {
   "cell_type": "code",
   "execution_count": 74,
   "outputs": [
    {
     "data": {
      "text/plain": "         Date  Contest number   Word  Reported    Hard  1 try  2 tries  \\\n0  2022-12-31           560.0  manly   20380.0  1899.0    0.0      2.0   \n1  2022-12-30           559.0  molar   21204.0  1973.0    0.0      4.0   \n2  2022-12-29           558.0  havoc   20001.0  1919.0    0.0      2.0   \n3  2022-12-28           557.0  impel   20160.0  1937.0    0.0      3.0   \n4  2022-12-27           556.0  condo   20879.0  2012.0    0.0      2.0   \n\n   3 tries  4 tries  5 tries  6 tries    X  \n0     17.0     37.0     29.0     12.0  2.0  \n1     21.0     38.0     26.0      9.0  1.0  \n2     16.0     38.0     30.0     12.0  2.0  \n3     21.0     40.0     25.0      9.0  1.0  \n4     17.0     35.0     29.0     14.0  3.0  ",
      "text/html": "<div>\n<style scoped>\n    .dataframe tbody tr th:only-of-type {\n        vertical-align: middle;\n    }\n\n    .dataframe tbody tr th {\n        vertical-align: top;\n    }\n\n    .dataframe thead th {\n        text-align: right;\n    }\n</style>\n<table border=\"1\" class=\"dataframe\">\n  <thead>\n    <tr style=\"text-align: right;\">\n      <th></th>\n      <th>Date</th>\n      <th>Contest number</th>\n      <th>Word</th>\n      <th>Reported</th>\n      <th>Hard</th>\n      <th>1 try</th>\n      <th>2 tries</th>\n      <th>3 tries</th>\n      <th>4 tries</th>\n      <th>5 tries</th>\n      <th>6 tries</th>\n      <th>X</th>\n    </tr>\n  </thead>\n  <tbody>\n    <tr>\n      <th>0</th>\n      <td>2022-12-31</td>\n      <td>560.0</td>\n      <td>manly</td>\n      <td>20380.0</td>\n      <td>1899.0</td>\n      <td>0.0</td>\n      <td>2.0</td>\n      <td>17.0</td>\n      <td>37.0</td>\n      <td>29.0</td>\n      <td>12.0</td>\n      <td>2.0</td>\n    </tr>\n    <tr>\n      <th>1</th>\n      <td>2022-12-30</td>\n      <td>559.0</td>\n      <td>molar</td>\n      <td>21204.0</td>\n      <td>1973.0</td>\n      <td>0.0</td>\n      <td>4.0</td>\n      <td>21.0</td>\n      <td>38.0</td>\n      <td>26.0</td>\n      <td>9.0</td>\n      <td>1.0</td>\n    </tr>\n    <tr>\n      <th>2</th>\n      <td>2022-12-29</td>\n      <td>558.0</td>\n      <td>havoc</td>\n      <td>20001.0</td>\n      <td>1919.0</td>\n      <td>0.0</td>\n      <td>2.0</td>\n      <td>16.0</td>\n      <td>38.0</td>\n      <td>30.0</td>\n      <td>12.0</td>\n      <td>2.0</td>\n    </tr>\n    <tr>\n      <th>3</th>\n      <td>2022-12-28</td>\n      <td>557.0</td>\n      <td>impel</td>\n      <td>20160.0</td>\n      <td>1937.0</td>\n      <td>0.0</td>\n      <td>3.0</td>\n      <td>21.0</td>\n      <td>40.0</td>\n      <td>25.0</td>\n      <td>9.0</td>\n      <td>1.0</td>\n    </tr>\n    <tr>\n      <th>4</th>\n      <td>2022-12-27</td>\n      <td>556.0</td>\n      <td>condo</td>\n      <td>20879.0</td>\n      <td>2012.0</td>\n      <td>0.0</td>\n      <td>2.0</td>\n      <td>17.0</td>\n      <td>35.0</td>\n      <td>29.0</td>\n      <td>14.0</td>\n      <td>3.0</td>\n    </tr>\n  </tbody>\n</table>\n</div>"
     },
     "execution_count": 74,
     "metadata": {},
     "output_type": "execute_result"
    }
   ],
   "source": [
    "data = pd.read_csv('../data/cleaned_data.csv')\n",
    "data.head()"
   ],
   "metadata": {
    "collapsed": false
   }
  },
  {
   "cell_type": "code",
   "execution_count": 75,
   "outputs": [
    {
     "data": {
      "text/plain": "(359, 12)"
     },
     "execution_count": 75,
     "metadata": {},
     "output_type": "execute_result"
    }
   ],
   "source": [
    "data.shape"
   ],
   "metadata": {
    "collapsed": false
   }
  },
  {
   "cell_type": "code",
   "execution_count": 76,
   "outputs": [
    {
     "data": {
      "text/plain": "Index(['Date', 'Contest number', 'Word', 'Reported', 'Hard', '1 try',\n       '2 tries', '3 tries', '4 tries', '5 tries', '6 tries', 'X'],\n      dtype='object')"
     },
     "execution_count": 76,
     "metadata": {},
     "output_type": "execute_result"
    }
   ],
   "source": [
    "data.columns"
   ],
   "metadata": {
    "collapsed": false
   }
  },
  {
   "cell_type": "code",
   "execution_count": 77,
   "outputs": [
    {
     "data": {
      "text/plain": "          Date  Contest number   Word   Reported     Hard  1 try  2 tries  \\\n0   2022-01-18           213.0  proxy  220950.00   6206.0    1.0      2.0   \n1   2022-01-28           223.0  perky  255272.25  11148.0    1.0      4.0   \n2   2022-02-07           233.0  elder  255272.25  13238.5    1.0      3.0   \n3   2022-02-17           243.0  shake  255272.25  12767.0    1.0      6.0   \n4   2022-02-27           253.0  chant  250413.00  10438.0    1.0      9.0   \n5   2022-03-09           263.0  month  201799.00   9435.0    1.0      5.0   \n6   2022-03-19           273.0  allow  156311.00   8515.0    0.0      5.0   \n7   2022-03-29           283.0  shall  149070.00   8494.0    0.0      3.0   \n8   2022-04-08           293.0  scare  141158.00   9010.0    1.0     12.0   \n9   2022-04-18           303.0  flair  112383.00   7341.0    1.0      8.0   \n10  2022-04-28           313.0  zesty   88974.00   6315.0    0.0      2.0   \n11  2022-05-08           323.0  canny   72518.00   5256.0    0.0      2.0   \n12  2022-05-18           333.0  scour   73933.00   5544.0    0.0      8.0   \n13  2022-05-28           343.0  crept   60069.00   4562.0    0.0      4.0   \n14  2022-06-07           353.0  flood   58991.00   4440.0    0.0      3.0   \n15  2022-06-17           363.0  blown   54665.00   4251.0    0.0      6.0   \n16  2022-06-27           373.0  retro   47986.00   3848.0    0.0      6.0   \n17  2022-07-07           383.0  agape   43407.00   3671.0    0.0      2.0   \n18  2022-07-17           393.0  wacky   39611.00   3345.0    0.0      3.0   \n19  2022-07-27           403.0  motto   38384.00   3285.0    0.0      1.0   \n20  2022-08-06           413.0  alien   38841.00   3395.0    3.0     17.0   \n21  2022-08-16           423.0  gruel   35105.00   3087.0    0.0      3.0   \n22  2022-08-26           433.0  irony   34716.00   3046.0    0.0      6.0   \n23  2022-09-05           443.0  whoop   32733.00   2970.0    0.0      1.0   \n24  2022-09-15           453.0  doubt   33344.00   3011.0    1.0     12.0   \n25  2022-09-25           463.0  admit   28994.00   2677.0    0.0     10.0   \n26  2022-10-05           473.0  marxh   30935.00   2885.0    0.0      9.0   \n27  2022-10-15           483.0  catch   30403.00   3123.0    0.0      7.0   \n28  2022-10-25           493.0  foggy   28953.00   2817.0    0.0      2.0   \n29  2022-11-04           503.0  photo   27330.00   2565.0    0.0      5.0   \n30  2022-11-14           513.0  maple   26536.00   2467.0    1.0      6.0   \n31  2022-11-24           523.0  feast   27705.00   2725.0    5.0     13.0   \n32  2022-12-04           533.0  adore   25577.00   2398.0    2.0     17.0   \n33  2022-12-14           543.0  usual   20824.00   2048.0    0.0      3.0   \n34  2022-12-24           553.0  poise   20281.00   1911.0    2.0     11.0   \n\n    3 tries  4 tries  5 tries  6 tries     X   rolling10  aa  \n0      11.0     24.0     31.0     26.0   6.0  165092.300   1  \n1      17.0     30.0     27.0     17.0   4.0  252763.100   1  \n2      13.0     24.0     30.0     24.0   5.0  255272.250   1  \n3      16.0     23.0     24.0     21.0   9.0  255272.250   1  \n4      33.0     33.0     16.0      7.0   1.0  253635.575   1  \n5      26.0     37.0     22.0      8.0   1.0  226660.825   1  \n6      21.0     32.0     26.0     14.0   3.0  191804.700   1  \n7      17.0     30.0     28.0     17.0   4.0  160257.300   1  \n8      23.0     26.0     21.0     13.0   4.0  134539.900   1  \n9      30.0     36.0     18.0      6.0   1.0  117893.100   1  \n10     12.0     27.0     30.0     22.0   7.0  100374.900   1  \n11     10.0     30.0     34.0     20.0   4.0   86075.800   1  \n12     34.0     35.0     17.0      5.0   1.0   74939.200   1  \n13     27.0     38.0     22.0      7.0   1.0   65516.400   1  \n14     20.0     40.0     28.0      8.0   1.0   60299.600   1  \n15     23.0     35.0     26.0     10.0   1.0   56291.800   1  \n16     24.0     35.0     24.0      9.0   1.0   50228.800   1  \n17     18.0     36.0     27.0     15.0   3.0   44464.200   1  \n18     18.0     39.0     27.0     10.0   2.0   42354.900   1  \n19     11.0     36.0     36.0     14.0   1.0   40002.800   1  \n20     31.0     29.0     15.0      4.0   0.0   37841.600   1  \n21     19.0     39.0     29.0      9.0   1.0   35452.400   1  \n22     29.0     34.0     21.0      8.0   1.0   35317.000   1  \n23     16.0     47.0     29.0      7.0   1.0   32830.800   1  \n24     32.0     34.0     16.0      4.0   0.0   30911.400   1  \n25     25.0     34.0     22.0      8.0   1.0   32986.700   1  \n26     30.0     35.0     19.0      6.0   1.0   30927.300   1  \n27     18.0     20.0     15.0     16.0  23.0   28797.100   1  \n28     13.0     35.0     32.0     15.0   3.0   29230.300   1  \n29     34.0     43.0     15.0      3.0   0.0   27395.900   1  \n30     26.0     36.0     21.0      8.0   1.0   27284.500   1  \n31     25.0     27.0     19.0     10.0   2.0   26555.700   1  \n32     32.0     29.0     15.0      5.0   1.0   22486.700   1  \n33     20.0     39.0     27.0     10.0   1.0   22730.200   1  \n34     34.0     32.0     15.0      6.0   1.0   22456.600   1  ",
      "text/html": "<div>\n<style scoped>\n    .dataframe tbody tr th:only-of-type {\n        vertical-align: middle;\n    }\n\n    .dataframe tbody tr th {\n        vertical-align: top;\n    }\n\n    .dataframe thead th {\n        text-align: right;\n    }\n</style>\n<table border=\"1\" class=\"dataframe\">\n  <thead>\n    <tr style=\"text-align: right;\">\n      <th></th>\n      <th>Date</th>\n      <th>Contest number</th>\n      <th>Word</th>\n      <th>Reported</th>\n      <th>Hard</th>\n      <th>1 try</th>\n      <th>2 tries</th>\n      <th>3 tries</th>\n      <th>4 tries</th>\n      <th>5 tries</th>\n      <th>6 tries</th>\n      <th>X</th>\n      <th>rolling10</th>\n      <th>aa</th>\n    </tr>\n  </thead>\n  <tbody>\n    <tr>\n      <th>0</th>\n      <td>2022-01-18</td>\n      <td>213.0</td>\n      <td>proxy</td>\n      <td>220950.00</td>\n      <td>6206.0</td>\n      <td>1.0</td>\n      <td>2.0</td>\n      <td>11.0</td>\n      <td>24.0</td>\n      <td>31.0</td>\n      <td>26.0</td>\n      <td>6.0</td>\n      <td>165092.300</td>\n      <td>1</td>\n    </tr>\n    <tr>\n      <th>1</th>\n      <td>2022-01-28</td>\n      <td>223.0</td>\n      <td>perky</td>\n      <td>255272.25</td>\n      <td>11148.0</td>\n      <td>1.0</td>\n      <td>4.0</td>\n      <td>17.0</td>\n      <td>30.0</td>\n      <td>27.0</td>\n      <td>17.0</td>\n      <td>4.0</td>\n      <td>252763.100</td>\n      <td>1</td>\n    </tr>\n    <tr>\n      <th>2</th>\n      <td>2022-02-07</td>\n      <td>233.0</td>\n      <td>elder</td>\n      <td>255272.25</td>\n      <td>13238.5</td>\n      <td>1.0</td>\n      <td>3.0</td>\n      <td>13.0</td>\n      <td>24.0</td>\n      <td>30.0</td>\n      <td>24.0</td>\n      <td>5.0</td>\n      <td>255272.250</td>\n      <td>1</td>\n    </tr>\n    <tr>\n      <th>3</th>\n      <td>2022-02-17</td>\n      <td>243.0</td>\n      <td>shake</td>\n      <td>255272.25</td>\n      <td>12767.0</td>\n      <td>1.0</td>\n      <td>6.0</td>\n      <td>16.0</td>\n      <td>23.0</td>\n      <td>24.0</td>\n      <td>21.0</td>\n      <td>9.0</td>\n      <td>255272.250</td>\n      <td>1</td>\n    </tr>\n    <tr>\n      <th>4</th>\n      <td>2022-02-27</td>\n      <td>253.0</td>\n      <td>chant</td>\n      <td>250413.00</td>\n      <td>10438.0</td>\n      <td>1.0</td>\n      <td>9.0</td>\n      <td>33.0</td>\n      <td>33.0</td>\n      <td>16.0</td>\n      <td>7.0</td>\n      <td>1.0</td>\n      <td>253635.575</td>\n      <td>1</td>\n    </tr>\n    <tr>\n      <th>5</th>\n      <td>2022-03-09</td>\n      <td>263.0</td>\n      <td>month</td>\n      <td>201799.00</td>\n      <td>9435.0</td>\n      <td>1.0</td>\n      <td>5.0</td>\n      <td>26.0</td>\n      <td>37.0</td>\n      <td>22.0</td>\n      <td>8.0</td>\n      <td>1.0</td>\n      <td>226660.825</td>\n      <td>1</td>\n    </tr>\n    <tr>\n      <th>6</th>\n      <td>2022-03-19</td>\n      <td>273.0</td>\n      <td>allow</td>\n      <td>156311.00</td>\n      <td>8515.0</td>\n      <td>0.0</td>\n      <td>5.0</td>\n      <td>21.0</td>\n      <td>32.0</td>\n      <td>26.0</td>\n      <td>14.0</td>\n      <td>3.0</td>\n      <td>191804.700</td>\n      <td>1</td>\n    </tr>\n    <tr>\n      <th>7</th>\n      <td>2022-03-29</td>\n      <td>283.0</td>\n      <td>shall</td>\n      <td>149070.00</td>\n      <td>8494.0</td>\n      <td>0.0</td>\n      <td>3.0</td>\n      <td>17.0</td>\n      <td>30.0</td>\n      <td>28.0</td>\n      <td>17.0</td>\n      <td>4.0</td>\n      <td>160257.300</td>\n      <td>1</td>\n    </tr>\n    <tr>\n      <th>8</th>\n      <td>2022-04-08</td>\n      <td>293.0</td>\n      <td>scare</td>\n      <td>141158.00</td>\n      <td>9010.0</td>\n      <td>1.0</td>\n      <td>12.0</td>\n      <td>23.0</td>\n      <td>26.0</td>\n      <td>21.0</td>\n      <td>13.0</td>\n      <td>4.0</td>\n      <td>134539.900</td>\n      <td>1</td>\n    </tr>\n    <tr>\n      <th>9</th>\n      <td>2022-04-18</td>\n      <td>303.0</td>\n      <td>flair</td>\n      <td>112383.00</td>\n      <td>7341.0</td>\n      <td>1.0</td>\n      <td>8.0</td>\n      <td>30.0</td>\n      <td>36.0</td>\n      <td>18.0</td>\n      <td>6.0</td>\n      <td>1.0</td>\n      <td>117893.100</td>\n      <td>1</td>\n    </tr>\n    <tr>\n      <th>10</th>\n      <td>2022-04-28</td>\n      <td>313.0</td>\n      <td>zesty</td>\n      <td>88974.00</td>\n      <td>6315.0</td>\n      <td>0.0</td>\n      <td>2.0</td>\n      <td>12.0</td>\n      <td>27.0</td>\n      <td>30.0</td>\n      <td>22.0</td>\n      <td>7.0</td>\n      <td>100374.900</td>\n      <td>1</td>\n    </tr>\n    <tr>\n      <th>11</th>\n      <td>2022-05-08</td>\n      <td>323.0</td>\n      <td>canny</td>\n      <td>72518.00</td>\n      <td>5256.0</td>\n      <td>0.0</td>\n      <td>2.0</td>\n      <td>10.0</td>\n      <td>30.0</td>\n      <td>34.0</td>\n      <td>20.0</td>\n      <td>4.0</td>\n      <td>86075.800</td>\n      <td>1</td>\n    </tr>\n    <tr>\n      <th>12</th>\n      <td>2022-05-18</td>\n      <td>333.0</td>\n      <td>scour</td>\n      <td>73933.00</td>\n      <td>5544.0</td>\n      <td>0.0</td>\n      <td>8.0</td>\n      <td>34.0</td>\n      <td>35.0</td>\n      <td>17.0</td>\n      <td>5.0</td>\n      <td>1.0</td>\n      <td>74939.200</td>\n      <td>1</td>\n    </tr>\n    <tr>\n      <th>13</th>\n      <td>2022-05-28</td>\n      <td>343.0</td>\n      <td>crept</td>\n      <td>60069.00</td>\n      <td>4562.0</td>\n      <td>0.0</td>\n      <td>4.0</td>\n      <td>27.0</td>\n      <td>38.0</td>\n      <td>22.0</td>\n      <td>7.0</td>\n      <td>1.0</td>\n      <td>65516.400</td>\n      <td>1</td>\n    </tr>\n    <tr>\n      <th>14</th>\n      <td>2022-06-07</td>\n      <td>353.0</td>\n      <td>flood</td>\n      <td>58991.00</td>\n      <td>4440.0</td>\n      <td>0.0</td>\n      <td>3.0</td>\n      <td>20.0</td>\n      <td>40.0</td>\n      <td>28.0</td>\n      <td>8.0</td>\n      <td>1.0</td>\n      <td>60299.600</td>\n      <td>1</td>\n    </tr>\n    <tr>\n      <th>15</th>\n      <td>2022-06-17</td>\n      <td>363.0</td>\n      <td>blown</td>\n      <td>54665.00</td>\n      <td>4251.0</td>\n      <td>0.0</td>\n      <td>6.0</td>\n      <td>23.0</td>\n      <td>35.0</td>\n      <td>26.0</td>\n      <td>10.0</td>\n      <td>1.0</td>\n      <td>56291.800</td>\n      <td>1</td>\n    </tr>\n    <tr>\n      <th>16</th>\n      <td>2022-06-27</td>\n      <td>373.0</td>\n      <td>retro</td>\n      <td>47986.00</td>\n      <td>3848.0</td>\n      <td>0.0</td>\n      <td>6.0</td>\n      <td>24.0</td>\n      <td>35.0</td>\n      <td>24.0</td>\n      <td>9.0</td>\n      <td>1.0</td>\n      <td>50228.800</td>\n      <td>1</td>\n    </tr>\n    <tr>\n      <th>17</th>\n      <td>2022-07-07</td>\n      <td>383.0</td>\n      <td>agape</td>\n      <td>43407.00</td>\n      <td>3671.0</td>\n      <td>0.0</td>\n      <td>2.0</td>\n      <td>18.0</td>\n      <td>36.0</td>\n      <td>27.0</td>\n      <td>15.0</td>\n      <td>3.0</td>\n      <td>44464.200</td>\n      <td>1</td>\n    </tr>\n    <tr>\n      <th>18</th>\n      <td>2022-07-17</td>\n      <td>393.0</td>\n      <td>wacky</td>\n      <td>39611.00</td>\n      <td>3345.0</td>\n      <td>0.0</td>\n      <td>3.0</td>\n      <td>18.0</td>\n      <td>39.0</td>\n      <td>27.0</td>\n      <td>10.0</td>\n      <td>2.0</td>\n      <td>42354.900</td>\n      <td>1</td>\n    </tr>\n    <tr>\n      <th>19</th>\n      <td>2022-07-27</td>\n      <td>403.0</td>\n      <td>motto</td>\n      <td>38384.00</td>\n      <td>3285.0</td>\n      <td>0.0</td>\n      <td>1.0</td>\n      <td>11.0</td>\n      <td>36.0</td>\n      <td>36.0</td>\n      <td>14.0</td>\n      <td>1.0</td>\n      <td>40002.800</td>\n      <td>1</td>\n    </tr>\n    <tr>\n      <th>20</th>\n      <td>2022-08-06</td>\n      <td>413.0</td>\n      <td>alien</td>\n      <td>38841.00</td>\n      <td>3395.0</td>\n      <td>3.0</td>\n      <td>17.0</td>\n      <td>31.0</td>\n      <td>29.0</td>\n      <td>15.0</td>\n      <td>4.0</td>\n      <td>0.0</td>\n      <td>37841.600</td>\n      <td>1</td>\n    </tr>\n    <tr>\n      <th>21</th>\n      <td>2022-08-16</td>\n      <td>423.0</td>\n      <td>gruel</td>\n      <td>35105.00</td>\n      <td>3087.0</td>\n      <td>0.0</td>\n      <td>3.0</td>\n      <td>19.0</td>\n      <td>39.0</td>\n      <td>29.0</td>\n      <td>9.0</td>\n      <td>1.0</td>\n      <td>35452.400</td>\n      <td>1</td>\n    </tr>\n    <tr>\n      <th>22</th>\n      <td>2022-08-26</td>\n      <td>433.0</td>\n      <td>irony</td>\n      <td>34716.00</td>\n      <td>3046.0</td>\n      <td>0.0</td>\n      <td>6.0</td>\n      <td>29.0</td>\n      <td>34.0</td>\n      <td>21.0</td>\n      <td>8.0</td>\n      <td>1.0</td>\n      <td>35317.000</td>\n      <td>1</td>\n    </tr>\n    <tr>\n      <th>23</th>\n      <td>2022-09-05</td>\n      <td>443.0</td>\n      <td>whoop</td>\n      <td>32733.00</td>\n      <td>2970.0</td>\n      <td>0.0</td>\n      <td>1.0</td>\n      <td>16.0</td>\n      <td>47.0</td>\n      <td>29.0</td>\n      <td>7.0</td>\n      <td>1.0</td>\n      <td>32830.800</td>\n      <td>1</td>\n    </tr>\n    <tr>\n      <th>24</th>\n      <td>2022-09-15</td>\n      <td>453.0</td>\n      <td>doubt</td>\n      <td>33344.00</td>\n      <td>3011.0</td>\n      <td>1.0</td>\n      <td>12.0</td>\n      <td>32.0</td>\n      <td>34.0</td>\n      <td>16.0</td>\n      <td>4.0</td>\n      <td>0.0</td>\n      <td>30911.400</td>\n      <td>1</td>\n    </tr>\n    <tr>\n      <th>25</th>\n      <td>2022-09-25</td>\n      <td>463.0</td>\n      <td>admit</td>\n      <td>28994.00</td>\n      <td>2677.0</td>\n      <td>0.0</td>\n      <td>10.0</td>\n      <td>25.0</td>\n      <td>34.0</td>\n      <td>22.0</td>\n      <td>8.0</td>\n      <td>1.0</td>\n      <td>32986.700</td>\n      <td>1</td>\n    </tr>\n    <tr>\n      <th>26</th>\n      <td>2022-10-05</td>\n      <td>473.0</td>\n      <td>marxh</td>\n      <td>30935.00</td>\n      <td>2885.0</td>\n      <td>0.0</td>\n      <td>9.0</td>\n      <td>30.0</td>\n      <td>35.0</td>\n      <td>19.0</td>\n      <td>6.0</td>\n      <td>1.0</td>\n      <td>30927.300</td>\n      <td>1</td>\n    </tr>\n    <tr>\n      <th>27</th>\n      <td>2022-10-15</td>\n      <td>483.0</td>\n      <td>catch</td>\n      <td>30403.00</td>\n      <td>3123.0</td>\n      <td>0.0</td>\n      <td>7.0</td>\n      <td>18.0</td>\n      <td>20.0</td>\n      <td>15.0</td>\n      <td>16.0</td>\n      <td>23.0</td>\n      <td>28797.100</td>\n      <td>1</td>\n    </tr>\n    <tr>\n      <th>28</th>\n      <td>2022-10-25</td>\n      <td>493.0</td>\n      <td>foggy</td>\n      <td>28953.00</td>\n      <td>2817.0</td>\n      <td>0.0</td>\n      <td>2.0</td>\n      <td>13.0</td>\n      <td>35.0</td>\n      <td>32.0</td>\n      <td>15.0</td>\n      <td>3.0</td>\n      <td>29230.300</td>\n      <td>1</td>\n    </tr>\n    <tr>\n      <th>29</th>\n      <td>2022-11-04</td>\n      <td>503.0</td>\n      <td>photo</td>\n      <td>27330.00</td>\n      <td>2565.0</td>\n      <td>0.0</td>\n      <td>5.0</td>\n      <td>34.0</td>\n      <td>43.0</td>\n      <td>15.0</td>\n      <td>3.0</td>\n      <td>0.0</td>\n      <td>27395.900</td>\n      <td>1</td>\n    </tr>\n    <tr>\n      <th>30</th>\n      <td>2022-11-14</td>\n      <td>513.0</td>\n      <td>maple</td>\n      <td>26536.00</td>\n      <td>2467.0</td>\n      <td>1.0</td>\n      <td>6.0</td>\n      <td>26.0</td>\n      <td>36.0</td>\n      <td>21.0</td>\n      <td>8.0</td>\n      <td>1.0</td>\n      <td>27284.500</td>\n      <td>1</td>\n    </tr>\n    <tr>\n      <th>31</th>\n      <td>2022-11-24</td>\n      <td>523.0</td>\n      <td>feast</td>\n      <td>27705.00</td>\n      <td>2725.0</td>\n      <td>5.0</td>\n      <td>13.0</td>\n      <td>25.0</td>\n      <td>27.0</td>\n      <td>19.0</td>\n      <td>10.0</td>\n      <td>2.0</td>\n      <td>26555.700</td>\n      <td>1</td>\n    </tr>\n    <tr>\n      <th>32</th>\n      <td>2022-12-04</td>\n      <td>533.0</td>\n      <td>adore</td>\n      <td>25577.00</td>\n      <td>2398.0</td>\n      <td>2.0</td>\n      <td>17.0</td>\n      <td>32.0</td>\n      <td>29.0</td>\n      <td>15.0</td>\n      <td>5.0</td>\n      <td>1.0</td>\n      <td>22486.700</td>\n      <td>1</td>\n    </tr>\n    <tr>\n      <th>33</th>\n      <td>2022-12-14</td>\n      <td>543.0</td>\n      <td>usual</td>\n      <td>20824.00</td>\n      <td>2048.0</td>\n      <td>0.0</td>\n      <td>3.0</td>\n      <td>20.0</td>\n      <td>39.0</td>\n      <td>27.0</td>\n      <td>10.0</td>\n      <td>1.0</td>\n      <td>22730.200</td>\n      <td>1</td>\n    </tr>\n    <tr>\n      <th>34</th>\n      <td>2022-12-24</td>\n      <td>553.0</td>\n      <td>poise</td>\n      <td>20281.00</td>\n      <td>1911.0</td>\n      <td>2.0</td>\n      <td>11.0</td>\n      <td>34.0</td>\n      <td>32.0</td>\n      <td>15.0</td>\n      <td>6.0</td>\n      <td>1.0</td>\n      <td>22456.600</td>\n      <td>1</td>\n    </tr>\n  </tbody>\n</table>\n</div>"
     },
     "execution_count": 77,
     "metadata": {},
     "output_type": "execute_result"
    }
   ],
   "source": [
    "data.sort_values(by='Date', inplace=True)\n",
    "data.reset_index(inplace=True, drop=True)\n",
    "data['rolling10'] = data['Reported'].rolling(10).mean()\n",
    "aa = []\n",
    "for i in range(data.shape[0]):\n",
    "    if i % 10 == 1:\n",
    "        aa.append(1)\n",
    "    else:\n",
    "        aa.append(0)\n",
    "data['aa'] = aa\n",
    "data = data[data['aa']==1]\n",
    "data.dropna(inplace=True)\n",
    "data.sort_values(by='Date')\n",
    "data.reset_index(inplace=True, drop=True)\n",
    "data"
   ],
   "metadata": {
    "collapsed": false
   }
  },
  {
   "cell_type": "code",
   "execution_count": 78,
   "outputs": [],
   "source": [
    "# 保存文件\n",
    "data.to_csv('./data/rolling10.csv', index=False)"
   ],
   "metadata": {
    "collapsed": false
   }
  },
  {
   "cell_type": "code",
   "execution_count": 79,
   "outputs": [],
   "source": [
    "# packages\n",
    "import pandas as pd\n",
    "import warnings\n",
    "from sklearn.metrics import r2_score\n",
    "warnings.filterwarnings('ignore')\n",
    "import numpy as np\n",
    "import matplotlib.pyplot as plt\n",
    "from keras.models import Sequential\n",
    "from keras.layers import Dense\n",
    "from keras.layers import LSTM\n",
    "from keras.models import Sequential, load_model\n"
   ],
   "metadata": {
    "collapsed": false
   }
  },
  {
   "cell_type": "code",
   "execution_count": 80,
   "outputs": [],
   "source": [
    "dataset = data['rolling10']\n",
    "dataset = dataset.astype('float32')\n",
    "def mean_absolute_percentage_error(y_true, y_pred):\n",
    "    return np.mean(np.abs((y_true - y_pred) / y_true)) * 100\n",
    "\n",
    "from sklearn.preprocessing import MinMaxScaler\n",
    "scaler = MinMaxScaler(feature_range=(0, 1))\n",
    "dataset = scaler.fit_transform(dataset.values.reshape(-1, 1))\n",
    "def create_dataset(dataset, look_back):\n",
    "    dataX, dataY = [],  []\n",
    "    for i in range(len(dataset) - look_back):\n",
    "        a = dataset[i:(i+look_back)]\n",
    "        dataX.append(a)\n",
    "        dataY.append((dataset[i+look_back]))\n",
    "    return np.array(dataX), np.array(dataY)\n"
   ],
   "metadata": {
    "collapsed": false
   }
  },
  {
   "cell_type": "code",
   "execution_count": 81,
   "outputs": [
    {
     "name": "stdout",
     "output_type": "stream",
     "text": [
      "Epoch 1/100\n",
      "34/34 - 2s - loss: 0.0909 - 2s/epoch - 59ms/step\n",
      "Epoch 2/100\n",
      "34/34 - 0s - loss: 0.0756 - 40ms/epoch - 1ms/step\n",
      "Epoch 3/100\n",
      "34/34 - 0s - loss: 0.0649 - 44ms/epoch - 1ms/step\n",
      "Epoch 4/100\n",
      "34/34 - 0s - loss: 0.0577 - 41ms/epoch - 1ms/step\n",
      "Epoch 5/100\n",
      "34/34 - 0s - loss: 0.0522 - 40ms/epoch - 1ms/step\n",
      "Epoch 6/100\n",
      "34/34 - 0s - loss: 0.0482 - 41ms/epoch - 1ms/step\n",
      "Epoch 7/100\n",
      "34/34 - 0s - loss: 0.0440 - 41ms/epoch - 1ms/step\n",
      "Epoch 8/100\n",
      "34/34 - 0s - loss: 0.0411 - 41ms/epoch - 1ms/step\n",
      "Epoch 9/100\n",
      "34/34 - 0s - loss: 0.0377 - 46ms/epoch - 1ms/step\n",
      "Epoch 10/100\n",
      "34/34 - 0s - loss: 0.0349 - 41ms/epoch - 1ms/step\n",
      "Epoch 11/100\n",
      "34/34 - 0s - loss: 0.0321 - 38ms/epoch - 1ms/step\n",
      "Epoch 12/100\n",
      "34/34 - 0s - loss: 0.0299 - 37ms/epoch - 1ms/step\n",
      "Epoch 13/100\n",
      "34/34 - 0s - loss: 0.0272 - 38ms/epoch - 1ms/step\n",
      "Epoch 14/100\n",
      "34/34 - 0s - loss: 0.0247 - 36ms/epoch - 1ms/step\n",
      "Epoch 15/100\n",
      "34/34 - 0s - loss: 0.0226 - 40ms/epoch - 1ms/step\n",
      "Epoch 16/100\n",
      "34/34 - 0s - loss: 0.0207 - 37ms/epoch - 1ms/step\n",
      "Epoch 17/100\n",
      "34/34 - 0s - loss: 0.0187 - 38ms/epoch - 1ms/step\n",
      "Epoch 18/100\n",
      "34/34 - 0s - loss: 0.0170 - 39ms/epoch - 1ms/step\n",
      "Epoch 19/100\n",
      "34/34 - 0s - loss: 0.0155 - 42ms/epoch - 1ms/step\n",
      "Epoch 20/100\n",
      "34/34 - 0s - loss: 0.0140 - 41ms/epoch - 1ms/step\n",
      "Epoch 21/100\n",
      "34/34 - 0s - loss: 0.0128 - 43ms/epoch - 1ms/step\n",
      "Epoch 22/100\n",
      "34/34 - 0s - loss: 0.0117 - 40ms/epoch - 1ms/step\n",
      "Epoch 23/100\n",
      "34/34 - 0s - loss: 0.0108 - 48ms/epoch - 1ms/step\n",
      "Epoch 24/100\n",
      "34/34 - 0s - loss: 0.0102 - 42ms/epoch - 1ms/step\n",
      "Epoch 25/100\n",
      "34/34 - 0s - loss: 0.0094 - 38ms/epoch - 1ms/step\n",
      "Epoch 26/100\n",
      "34/34 - 0s - loss: 0.0091 - 36ms/epoch - 1ms/step\n",
      "Epoch 27/100\n",
      "34/34 - 0s - loss: 0.0083 - 39ms/epoch - 1ms/step\n",
      "Epoch 28/100\n",
      "34/34 - 0s - loss: 0.0080 - 37ms/epoch - 1ms/step\n",
      "Epoch 29/100\n",
      "34/34 - 0s - loss: 0.0077 - 37ms/epoch - 1ms/step\n",
      "Epoch 30/100\n",
      "34/34 - 0s - loss: 0.0074 - 39ms/epoch - 1ms/step\n",
      "Epoch 31/100\n",
      "34/34 - 0s - loss: 0.0072 - 37ms/epoch - 1ms/step\n",
      "Epoch 32/100\n",
      "34/34 - 0s - loss: 0.0070 - 38ms/epoch - 1ms/step\n",
      "Epoch 33/100\n",
      "34/34 - 0s - loss: 0.0070 - 39ms/epoch - 1ms/step\n",
      "Epoch 34/100\n",
      "34/34 - 0s - loss: 0.0068 - 37ms/epoch - 1ms/step\n",
      "Epoch 35/100\n",
      "34/34 - 0s - loss: 0.0067 - 41ms/epoch - 1ms/step\n",
      "Epoch 36/100\n",
      "34/34 - 0s - loss: 0.0067 - 39ms/epoch - 1ms/step\n",
      "Epoch 37/100\n",
      "34/34 - 0s - loss: 0.0067 - 37ms/epoch - 1ms/step\n",
      "Epoch 38/100\n",
      "34/34 - 0s - loss: 0.0067 - 39ms/epoch - 1ms/step\n",
      "Epoch 39/100\n",
      "34/34 - 0s - loss: 0.0066 - 38ms/epoch - 1ms/step\n",
      "Epoch 40/100\n",
      "34/34 - 0s - loss: 0.0066 - 44ms/epoch - 1ms/step\n",
      "Epoch 41/100\n",
      "34/34 - 0s - loss: 0.0065 - 42ms/epoch - 1ms/step\n",
      "Epoch 42/100\n",
      "34/34 - 0s - loss: 0.0066 - 39ms/epoch - 1ms/step\n",
      "Epoch 43/100\n",
      "34/34 - 0s - loss: 0.0067 - 37ms/epoch - 1ms/step\n",
      "Epoch 44/100\n",
      "34/34 - 0s - loss: 0.0065 - 37ms/epoch - 1ms/step\n",
      "Epoch 45/100\n",
      "34/34 - 0s - loss: 0.0067 - 38ms/epoch - 1ms/step\n",
      "Epoch 46/100\n",
      "34/34 - 0s - loss: 0.0067 - 37ms/epoch - 1ms/step\n",
      "Epoch 47/100\n",
      "34/34 - 0s - loss: 0.0065 - 38ms/epoch - 1ms/step\n",
      "Epoch 48/100\n",
      "34/34 - 0s - loss: 0.0065 - 37ms/epoch - 1ms/step\n",
      "Epoch 49/100\n",
      "34/34 - 0s - loss: 0.0067 - 37ms/epoch - 1ms/step\n",
      "Epoch 50/100\n",
      "34/34 - 0s - loss: 0.0068 - 38ms/epoch - 1ms/step\n",
      "Epoch 51/100\n",
      "34/34 - 0s - loss: 0.0066 - 38ms/epoch - 1ms/step\n",
      "Epoch 52/100\n",
      "34/34 - 0s - loss: 0.0066 - 41ms/epoch - 1ms/step\n",
      "Epoch 53/100\n",
      "34/34 - 0s - loss: 0.0066 - 45ms/epoch - 1ms/step\n",
      "Epoch 54/100\n",
      "34/34 - 0s - loss: 0.0066 - 44ms/epoch - 1ms/step\n",
      "Epoch 55/100\n",
      "34/34 - 0s - loss: 0.0065 - 39ms/epoch - 1ms/step\n",
      "Epoch 56/100\n",
      "34/34 - 0s - loss: 0.0066 - 45ms/epoch - 1ms/step\n",
      "Epoch 57/100\n",
      "34/34 - 0s - loss: 0.0065 - 42ms/epoch - 1ms/step\n",
      "Epoch 58/100\n",
      "34/34 - 0s - loss: 0.0066 - 42ms/epoch - 1ms/step\n",
      "Epoch 59/100\n",
      "34/34 - 0s - loss: 0.0065 - 41ms/epoch - 1ms/step\n",
      "Epoch 60/100\n",
      "34/34 - 0s - loss: 0.0065 - 40ms/epoch - 1ms/step\n",
      "Epoch 61/100\n",
      "34/34 - 0s - loss: 0.0066 - 35ms/epoch - 1ms/step\n",
      "Epoch 62/100\n",
      "34/34 - 0s - loss: 0.0066 - 39ms/epoch - 1ms/step\n",
      "Epoch 63/100\n",
      "34/34 - 0s - loss: 0.0066 - 38ms/epoch - 1ms/step\n",
      "Epoch 64/100\n",
      "34/34 - 0s - loss: 0.0066 - 36ms/epoch - 1ms/step\n",
      "Epoch 65/100\n",
      "34/34 - 0s - loss: 0.0066 - 38ms/epoch - 1ms/step\n",
      "Epoch 66/100\n",
      "34/34 - 0s - loss: 0.0066 - 38ms/epoch - 1ms/step\n",
      "Epoch 67/100\n",
      "34/34 - 0s - loss: 0.0066 - 41ms/epoch - 1ms/step\n",
      "Epoch 68/100\n",
      "34/34 - 0s - loss: 0.0066 - 40ms/epoch - 1ms/step\n",
      "Epoch 69/100\n",
      "34/34 - 0s - loss: 0.0065 - 39ms/epoch - 1ms/step\n",
      "Epoch 70/100\n",
      "34/34 - 0s - loss: 0.0065 - 40ms/epoch - 1ms/step\n",
      "Epoch 71/100\n",
      "34/34 - 0s - loss: 0.0065 - 40ms/epoch - 1ms/step\n",
      "Epoch 72/100\n",
      "34/34 - 0s - loss: 0.0066 - 39ms/epoch - 1ms/step\n",
      "Epoch 73/100\n",
      "34/34 - 0s - loss: 0.0066 - 38ms/epoch - 1ms/step\n",
      "Epoch 74/100\n",
      "34/34 - 0s - loss: 0.0066 - 37ms/epoch - 1ms/step\n",
      "Epoch 75/100\n",
      "34/34 - 0s - loss: 0.0068 - 42ms/epoch - 1ms/step\n",
      "Epoch 76/100\n",
      "34/34 - 0s - loss: 0.0066 - 38ms/epoch - 1ms/step\n",
      "Epoch 77/100\n",
      "34/34 - 0s - loss: 0.0068 - 38ms/epoch - 1ms/step\n",
      "Epoch 78/100\n",
      "34/34 - 0s - loss: 0.0065 - 37ms/epoch - 1ms/step\n",
      "Epoch 79/100\n",
      "34/34 - 0s - loss: 0.0065 - 37ms/epoch - 1ms/step\n",
      "Epoch 80/100\n",
      "34/34 - 0s - loss: 0.0065 - 37ms/epoch - 1ms/step\n",
      "Epoch 81/100\n",
      "34/34 - 0s - loss: 0.0068 - 41ms/epoch - 1ms/step\n",
      "Epoch 82/100\n",
      "34/34 - 0s - loss: 0.0066 - 38ms/epoch - 1ms/step\n",
      "Epoch 83/100\n",
      "34/34 - 0s - loss: 0.0064 - 37ms/epoch - 1ms/step\n",
      "Epoch 84/100\n",
      "34/34 - 0s - loss: 0.0065 - 40ms/epoch - 1ms/step\n",
      "Epoch 85/100\n",
      "34/34 - 0s - loss: 0.0065 - 57ms/epoch - 2ms/step\n",
      "Epoch 86/100\n",
      "34/34 - 0s - loss: 0.0065 - 49ms/epoch - 1ms/step\n",
      "Epoch 87/100\n",
      "34/34 - 0s - loss: 0.0064 - 41ms/epoch - 1ms/step\n",
      "Epoch 88/100\n",
      "34/34 - 0s - loss: 0.0067 - 41ms/epoch - 1ms/step\n",
      "Epoch 89/100\n",
      "34/34 - 0s - loss: 0.0069 - 45ms/epoch - 1ms/step\n",
      "Epoch 90/100\n",
      "34/34 - 0s - loss: 0.0065 - 45ms/epoch - 1ms/step\n",
      "Epoch 91/100\n",
      "34/34 - 0s - loss: 0.0065 - 48ms/epoch - 1ms/step\n",
      "Epoch 92/100\n",
      "34/34 - 0s - loss: 0.0067 - 48ms/epoch - 1ms/step\n",
      "Epoch 93/100\n",
      "34/34 - 0s - loss: 0.0064 - 48ms/epoch - 1ms/step\n",
      "Epoch 94/100\n",
      "34/34 - 0s - loss: 0.0065 - 45ms/epoch - 1ms/step\n",
      "Epoch 95/100\n",
      "34/34 - 0s - loss: 0.0065 - 50ms/epoch - 1ms/step\n",
      "Epoch 96/100\n",
      "34/34 - 0s - loss: 0.0067 - 67ms/epoch - 2ms/step\n",
      "Epoch 97/100\n",
      "34/34 - 0s - loss: 0.0065 - 47ms/epoch - 1ms/step\n",
      "Epoch 98/100\n",
      "34/34 - 0s - loss: 0.0067 - 44ms/epoch - 1ms/step\n",
      "Epoch 99/100\n",
      "34/34 - 0s - loss: 0.0065 - 41ms/epoch - 1ms/step\n",
      "Epoch 100/100\n",
      "34/34 - 0s - loss: 0.0065 - 38ms/epoch - 1ms/step\n"
     ]
    },
    {
     "data": {
      "text/plain": "<keras.callbacks.History at 0x7fb40467ea30>"
     },
     "execution_count": 81,
     "metadata": {},
     "output_type": "execute_result"
    }
   ],
   "source": [
    "# 因为数据量太小，我们这里回看就小一点先设置成1\n",
    "look_back = 1\n",
    "trainX, trainY = create_dataset(dataset, look_back)\n",
    "trainX = np.reshape(trainX, (trainX.shape[0], trainX.shape[1], 1))\n",
    "\n",
    "# create and fit lstm framework\n",
    "model = Sequential()\n",
    "model.add(LSTM(4, input_shape=(None, 1)))\n",
    "model.add(Dense(1))\n",
    "model.compile(loss='mean_squared_error', optimizer='adam' )\n",
    "model.fit(trainX, trainY, epochs=100, batch_size=1, verbose=2)"
   ],
   "metadata": {
    "collapsed": false
   }
  },
  {
   "cell_type": "code",
   "execution_count": 82,
   "outputs": [
    {
     "name": "stdout",
     "output_type": "stream",
     "text": [
      "2/2 [==============================] - 0s 2ms/step\n"
     ]
    }
   ],
   "source": [
    "# 模型验证\n",
    "trainPredict = model.predict(trainX)\n",
    "trainPredict_ = scaler.inverse_transform(trainPredict)\n",
    "trainY_ = scaler.inverse_transform((trainY))"
   ],
   "metadata": {
    "collapsed": false
   }
  },
  {
   "cell_type": "code",
   "execution_count": 86,
   "outputs": [
    {
     "data": {
      "text/plain": "array([[164820.88 ],\n       [240794.88 ],\n       [242667.2  ],\n       [242667.2  ],\n       [241447.89 ],\n       [220281.58 ],\n       [190019.64 ],\n       [160099.05 ],\n       [134317.   ],\n       [117177.18 ],\n       [ 98938.7  ],\n       [ 84022.914],\n       [ 72460.44 ],\n       [ 62755.367],\n       [ 57424.99 ],\n       [ 53354.71 ],\n       [ 47243.652],\n       [ 41491.465],\n       [ 39402.17 ],\n       [ 37082.76 ],\n       [ 34961.582],\n       [ 32628.174],\n       [ 32496.309],\n       [ 30082.242],\n       [ 28228.148],\n       [ 30233.21 ],\n       [ 28243.47 ],\n       [ 26195.768],\n       [ 26611.318],\n       [ 24854.764],\n       [ 24748.352],\n       [ 24052.953],\n       [ 20194.871],\n       [ 20424.568]], dtype=float32)"
     },
     "execution_count": 86,
     "metadata": {},
     "output_type": "execute_result"
    }
   ],
   "source": [
    "trainPredict_"
   ],
   "metadata": {
    "collapsed": false
   }
  },
  {
   "cell_type": "code",
   "execution_count": 83,
   "outputs": [
    {
     "name": "stdout",
     "output_type": "stream",
     "text": [
      "MAPE\n",
      "8.769822120666504\n",
      "RMSE\n",
      "18573.955\n",
      "MAE\n",
      "9498.584\n"
     ]
    }
   ],
   "source": [
    "from sklearn.metrics import mean_squared_error, mean_absolute_error\n",
    "\n",
    "def score(y_true, y_pre):\n",
    "    #MAPE\n",
    "    print(\"MAPE\")\n",
    "    print(mean_absolute_percentage_error(y_true,y_pre))\n",
    "    #RMSE\n",
    "    print(\"RMSE\")\n",
    "    print(np.sqrt(mean_squared_error(y_true, y_pre)))\n",
    "    # MAE\n",
    "    print(\"MAE\")\n",
    "    print(mean_absolute_error(y_true, y_pre))\n",
    "score(trainPredict_, trainY_)"
   ],
   "metadata": {
    "collapsed": false
   }
  },
  {
   "cell_type": "code",
   "execution_count": 84,
   "outputs": [
    {
     "data": {
      "text/plain": "<Figure size 432x288 with 1 Axes>",
      "image/png": "[encoded data removed]"
     },
     "metadata": {
      "needs_background": "light"
     },
     "output_type": "display_data"
    }
   ],
   "source": [
    "plt.plot(data['Date'].values[:-1], trainY_, label='observed data')\n",
    "plt.plot(data['Date'].values[:-1], trainPredict_, label = 'lstm')\n",
    "plt.xlabel('time')\n",
    "plt.ylabel('Number of reported results')\n",
    "plt.title('Number of reported results fitting')\n",
    "plt.legend()\n",
    "plt.show()"
   ],
   "metadata": {
    "collapsed": false
   }
  },
  {
   "cell_type": "code",
   "execution_count": 85,
   "outputs": [
    {
     "data": {
      "text/plain": "array([[22456.60012571],\n       [20166.48929795],\n       [18014.00257079],\n       [16003.55453128],\n       [14137.13130992],\n       [12414.42241122],\n       [10833.08090539],\n       [ 9388.97494712],\n       [ 8076.54684018]])"
     },
     "execution_count": 85,
     "metadata": {},
     "output_type": "execute_result"
    }
   ],
   "source": [
    "x_input=trainY[-1]\n",
    "predict_forward_number = 9\n",
    "predict_list = []\n",
    "predict_list.append(x_input)\n",
    "while len(predict_list) < predict_forward_number:\n",
    "    x_input = predict_list[-1].reshape((-1, 1, 1))\n",
    "    yhat = model.predict(x_input, verbose=0)\n",
    "    predict_list.append(yhat)\n",
    "scaler.inverse_transform(np.array( [i.reshape(-1, 1)[:, 0].tolist() for i in predict_list]))"
   ],
   "metadata": {
    "collapsed": false
   }
  },
  {
   "cell_type": "code",
   "execution_count": 85,
   "outputs": [],
   "source": [],
   "metadata": {
    "collapsed": false
   }
  }
 ],
 "metadata": {
  "kernelspec": {
   "display_name": "Python 3",
   "language": "python",
   "name": "python3"
  },
  "language_info": {
   "codemirror_mode": {
    "name": "ipython",
    "version": 2
   },
   "file_extension": ".py",
   "mimetype": "text/x-python",
   "name": "python",
   "nbconvert_exporter": "python",
   "pygments_lexer": "ipython2",
   "version": "2.7.6"
  }
 },
 "nbformat": 4,
 "nbformat_minor": 0
}
